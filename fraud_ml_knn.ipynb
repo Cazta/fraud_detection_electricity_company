{
 "cells": [
  {
   "cell_type": "markdown",
   "metadata": {},
   "source": [
    "# K-Nearest Neighbours (KNN) for Fraud Detection\n",
    "\n",
    "---\n",
    "\n",
    "* KNN, Supervised learning algorithm:\n",
    "  - assumption: similar inputs have similar outputs\n",
    "  - high similarity implies same class label\n",
    "\n",
    "* Algorithm:\n",
    "  - train set\n",
    "  - distance function to calculate similarity : Euclidean , Mahalanobis\n",
    "  - Hyperparameter, K\n",
    "  - Find k-closest points to new point \n",
    "  - Decision strategy : Mode or weighted distances?\n",
    "  - Assign new point to fraud or no fraud based on strategy\n",
    "\n",
    "* Choosing K:\n",
    "  - can use cross-validation, elbow method?\n",
    "\n",
    "* Improving KNN\n",
    "  - change the metric distance\n",
    "  - dimensionality reduction\n",
    "  - rescaling and normalization\n",
    "  - modified approach\n",
    "\n",
    "* Visualization of the likelihood a new test point belongs to a class.\n",
    "\n"
   ]
  },
  {
   "cell_type": "markdown",
   "metadata": {},
   "source": [
    "---\n",
    "\n",
    "# Import libraries\n",
    "\n",
    "---"
   ]
  },
  {
   "cell_type": "code",
   "execution_count": 1,
   "metadata": {},
   "outputs": [],
   "source": [
    "# import necessary libraries\n",
    "\n",
    "import pandas as pd\n",
    "import numpy as np\n",
    "import missingno as msno \n",
    "import seaborn as sns\n",
    "import matplotlib.pyplot as plt \n",
    "\n",
    "#sklearn\n",
    "\n",
    "from sklearn.model_selection import train_test_split, cross_val_score\n",
    "from sklearn.neighbors import KNeighborsClassifier\n",
    "from sklearn.metrics import f1_score, fbeta_score, make_scorer\n",
    "from sklearn.metrics import precision_score, recall_score, roc_auc_score, roc_curve\n",
    "from sklearn.metrics import confusion_matrix, classification_report\n",
    "from sklearn.metrics import accuracy_score, balanced_accuracy_score\n",
    "from sklearn.model_selection import RandomizedSearchCV,  GridSearchCV\n",
    "from sklearn.neighbors import DistanceMetric\n",
    "\n",
    "\n",
    "# import custom functions\n",
    "\n",
    "from custom_functions import get_data_summary, our_metrics, eval_metrics, evaluate_model\n",
    "\n",
    "\n",
    "import warnings\n",
    "warnings.filterwarnings('ignore')"
   ]
  },
  {
   "cell_type": "markdown",
   "metadata": {},
   "source": [
    "---\n",
    "\n",
    "# Load necessary processed data\n",
    "\n",
    "---\n",
    "\n",
    "* Unscaled Data (test_size = 0.25) :\n",
    "  - X_train.csv\n",
    "  - X_test.csv\n",
    "  - y_train.csv\n",
    "  - y_test.csv\n",
    "\n",
    "* Scaled Data - minmax scaler (normalization) :\n",
    "  - X_train_std.csv\n",
    "  - X_test_std.csv\n",
    "\n",
    "* Scaled Data - standard scaler (standardization) :\n",
    "  - X_train_minmax.csv\n",
    "  - X_test_minmax.csv\n",
    "\n",
    "* minmax scaled with x_train_minmax and y_train split using test_size = 0.7 :\n",
    "  - X_train_minmax_small.csv (train?)\n",
    "  - y_train_minmax_small.csv (train)\n",
    "  - X_train_minmax_large.csv (still train? since scaled)\n",
    "  - y_train_minmax_large.csv (test)\n",
    "\n",
    "* standard scaler with x_train_std and y_train split using test_size = 0.7 :\n",
    "  - X_train_std_small.csv (train?)\n",
    "  - y_train_std_small.csv (train)\n",
    "  - X_train_std_large.csv (now test)\n",
    "  - y_train_std_large.csv (test)\n",
    "\n"
   ]
  },
  {
   "cell_type": "code",
   "execution_count": 2,
   "metadata": {},
   "outputs": [],
   "source": [
    "\n",
    "# loading the data files\n",
    "\n",
    "\n",
    "# unscaled Data (test_size = 0.25) :\n",
    "\n",
    "X_train = pd.read_csv(\"data/X_train.csv\")\n",
    "X_test = pd.read_csv(\"data/X_test.csv\")\n",
    "y_train = pd.read_csv(\"data/y_train.csv\")\n",
    "y_test = pd.read_csv(\"data/y_test.csv\")\n",
    "\n",
    "# scaled Data - minmax scaler\n",
    "\n",
    "X_train_std = pd.read_csv(\"data/X_train_std.csv\")\n",
    "X_test_std  = pd.read_csv(\"data/X_test_std.csv\")\n",
    "\n",
    "# scaled Data - standard scaler\n",
    "\n",
    "X_train_minmax  = pd.read_csv(\"data/X_train_minmax.csv\")\n",
    "X_test_minmax  = pd.read_csv(\"data/X_test_minmax.csv\")\n",
    "\n",
    "# minmax scaled with x_train_minmax and y_train split using test_size = 0.7\n",
    "\n",
    "X_train_minmax_small  = pd.read_csv(\"data/X_train_minmax_small.csv\")\n",
    "X_train_minmax_large  = pd.read_csv(\"data/X_train_minmax_large.csv\")\n",
    "\n",
    "# standard scaler with x_train_std and y_train split using test_size = 0.7\n",
    "\n",
    "X_train_std_small  = pd.read_csv(\"data/X_train_std_small.csv\")\n",
    "X_train_std_large  = pd.read_csv(\"data/X_train_std_large.csv\")\n",
    "\n",
    "y_train_small  = pd.read_csv(\"data/y_train_small.csv\")\n",
    "y_train_large  = pd.read_csv(\"data/y_train_large.csv\")\n",
    "\n",
    "\n",
    "\n"
   ]
  },
  {
   "cell_type": "code",
   "execution_count": 3,
   "metadata": {},
   "outputs": [
    {
     "name": "stdout",
     "output_type": "stream",
     "text": [
      "________________________________________________\n",
      " X_train : (3357517, 47)\n",
      " X_test :(1119173, 47)\n",
      "________________________________________________\n",
      " y_train : (3357517, 1)\n",
      " y_test : (1119173, 1)\n",
      "________________________________________________\n",
      " X_train_std : (3357517, 47)\n",
      " X_test_std : (1119173, 47)\n",
      "________________________________________________\n",
      " X_train_minmax : (3357517, 47)\n",
      " X_test_minmax : (1119173, 47)\n",
      "________________________________________________\n",
      " X_train_minmax_small : (1007255, 47)\n",
      " X_train_minmax_large : (2350262, 47)\n",
      "________________________________________________\n",
      " X_train_std_small : (1007255, 47)\n",
      " X_train_std_large : (2350262, 47)\n",
      "________________________________________________\n",
      " y_train_small : (1007255, 1)\n",
      " y_train_large : (2350262, 1)\n"
     ]
    }
   ],
   "source": [
    "# checking the shape data files\n",
    "\n",
    "print('____'*12)\n",
    "\n",
    "print(f\" X_train : {X_train.shape}\")\n",
    "print(f\" X_test :{X_test.shape}\")\n",
    "\n",
    "print('____'*12)\n",
    "\n",
    "print(f\" y_train : {y_train.shape}\")\n",
    "print(f\" y_test : {y_test.shape}\")\n",
    "\n",
    "print('____'*12)\n",
    "\n",
    "print(f\" X_train_std : {X_train_std.shape}\")\n",
    "print(f\" X_test_std : {X_test_std.shape}\")\n",
    "\n",
    "print('____'*12)\n",
    "\n",
    "print(f\" X_train_minmax : {X_train_minmax.shape}\")\n",
    "print(f\" X_test_minmax : {X_test_minmax.shape}\")\n",
    "\n",
    "print('____'*12)\n",
    "\n",
    "print(f\" X_train_minmax_small : {X_train_minmax_small.shape}\")\n",
    "print(f\" X_train_minmax_large : {X_train_minmax_large.shape}\")\n",
    "\n",
    "print('____'*12)\n",
    "\n",
    "print(f\" X_train_std_small : {X_train_std_small.shape}\")\n",
    "print(f\" X_train_std_large : {X_train_std_large.shape}\")\n",
    "\n",
    "print('____'*12)\n",
    "\n",
    "print(f\" y_train_small : {y_train_small.shape}\")\n",
    "print(f\" y_train_large : {y_train_large.shape}\")\n",
    "\n"
   ]
  },
  {
   "cell_type": "markdown",
   "metadata": {},
   "source": [
    "---\n",
    "\n",
    "# Global Variables\n",
    "\n",
    "---"
   ]
  },
  {
   "cell_type": "code",
   "execution_count": 4,
   "metadata": {},
   "outputs": [],
   "source": [
    "# global variables\n",
    "\n",
    "# for reproducibility sake\n",
    "RSEED = 42\n",
    "\n",
    "# test values for the n_neighbors parameter for unscaled X_train\n",
    "params_0 = {\n",
    "            'n_neighbors' : [50, 100, 500, len(X_train//16),\n",
    "                len(X_train//8), len(X_train//4),  len(X_train//2)],   \n",
    "        }\n",
    "\n",
    "Threshold = 0.5\n",
    "\n"
   ]
  },
  {
   "cell_type": "markdown",
   "metadata": {},
   "source": [
    "---\n",
    "\n",
    "# Distance measure\n",
    "\n",
    "---\n",
    "\n",
    "metric = DistanceMetric.get_metric('mahalanobis', V=np.cov(train_features))\n",
    "\n",
    "\n"
   ]
  },
  {
   "cell_type": "markdown",
   "metadata": {},
   "source": [
    "---\n",
    "\n",
    "# K-neighbours classifier \n",
    "\n",
    "---\n",
    "\n",
    "* initialize model\n",
    "* cross validation to find optima K : random search , grid search\n",
    "* fit model \n",
    "* parameters used :\n",
    "<br> <br/>\n",
    "\n",
    "\n",
    "```python\n",
    "\n",
    "cv_params = [\n",
    "    {'n_neighbors': np.arange(1, 51), 'metric': ['euclidean', 'minkowski']},\n",
    "    {'n_neighbors': np.arange(1, 51), 'metric': ['mahalanobis', 'seuclidean'],\n",
    "     'metric_params': [{'V': np.cov(train_input_data)}]}\n",
    "]\n",
    "\n",
    "```\n",
    "\n",
    "---\n",
    "\n",
    "Dimensionality reduction :\n",
    "\n",
    "* how to solve th curse of dimensionality problem\n",
    "* Using principal component analysis (PCA)\n",
    "    - if data has multi-colinearity between the features or variables\n",
    "    - if the input data is high dimensional (lots feature variables)\n",
    "\n",
    "\n"
   ]
  },
  {
   "cell_type": "code",
   "execution_count": 5,
   "metadata": {},
   "outputs": [
    {
     "name": "stdout",
     "output_type": "stream",
     "text": [
      " n samples from x_train : (4000, 47)\n",
      " n samples from y_train : (4000, 1)\n",
      "_____________________________________________________________________________________________________________________________\n",
      " n samples from x_test : (4000, 47)\n",
      "  n samples from y_test : (4000, 1)\n"
     ]
    }
   ],
   "source": [
    "n_samples = 4000\n",
    "\n",
    "n_x_train = X_train[:n_samples]\n",
    "n_y_train = y_train[:n_samples]\n",
    "n_x_test = X_test[:n_samples]\n",
    "n_y_test = y_test[:n_samples]\n",
    "\n",
    "print(f\" n samples from x_train : {n_x_train.shape}\")\n",
    "print(f\" n samples from y_train : {n_y_train.shape}\")\n",
    "\n",
    "print(\"_____\"*25)\n",
    "\n",
    "print(f\" n samples from x_test : {n_x_test.shape}\")\n",
    "print(f\"  n samples from y_test : {n_y_test.shape}\")\n"
   ]
  },
  {
   "cell_type": "code",
   "execution_count": 7,
   "metadata": {},
   "outputs": [],
   "source": [
    "## scorer names\n",
    "# import sklearn.metrics as sm\n",
    "# sm.get_scorer_names()\n"
   ]
  },
  {
   "cell_type": "markdown",
   "metadata": {},
   "source": [
    "\n",
    "## results of grid search run previously\n",
    "\n",
    "_____________________________________________________________________________________________________________________________\n",
    "_____________________________________________________________________________________________________________________________\n",
    "best K grid search: 60\n",
    "best metric grid search: mahalanobis\n",
    "_____________________________________________________________________________________________________________________________\n",
    "optimal parameters, score, algorithm\n",
    "\n",
    "        \n",
    "_____________________________________________________________________________________________________________________________\n",
    "best score gridcv : 0.5740317387792053\n",
    "_____________________________________________________________________________________________________________________________\n",
    "best params gridcv : {'algorithm': 'auto', 'metric': 'mahalanobis', 'metric_params': {'VI': array([[ 162.91281221,  134.91084644,  110.33487512, ...,   99.82215541,\n",
    "         376.41258094,   19.60800185],\n",
    "       [ 134.91084644,  243.40304117,   95.24653099, ...,  137.64743293,\n",
    "         477.60430157,  115.94993062],\n",
    "       [ 110.33487512,   95.24653099,   78.61170213, ...,   71.97548566,\n",
    "         259.30018501,   14.363321  ],\n",
    "       ...,\n",
    "       [  99.82215541,  137.64743293,   71.97548566, ...,   86.23751156,\n",
    "         299.49213691,   52.31429232],\n",
    "       [ 376.41258094,  477.60430157,  259.30018501, ...,  299.49213691,\n",
    "        1078.95559667,  171.19426457],\n",
    "       [  19.60800185,  115.94993062,   14.363321  , ...,   52.31429232,\n",
    "         171.19426457,   78.85661425]])}, 'n_neighbors': 60, 'weights': 'uniform'}\n",
    "_____________________________________________________________________________________________________________________________\n",
    "best estimator gridcv : KNeighborsClassifier(metric='mahalanobis',\n",
    "                     metric_params={'VI': array([[ 162.91281221,  134.91084644,  110.33487512, ...,   99.82215541,\n",
    "         376.41258094,   19.60800185],\n",
    "       [ 134.91084644,  243.40304117,   95.24653099, ...,  137.64743293,\n",
    "         477.60430157,  115.94993062],\n",
    "       [ 110.33487512,   95.24653099,   78.61170213, ...,   71.97548566,\n",
    "         259.30018501,   14.363321  ],\n",
    "       ...,\n",
    "       [  99.82215541,  137.64743293,   71.97548566, ...,   86.23751156,\n",
    "         299.49213691,   52.31429232],\n",
    "       [ 376.41258094,  477.60430157,  259.30018501, ...,  299.49213691,\n",
    "        1078.95559667,  171.19426457],\n",
    "       [  19.60800185,  115.94993062,   14.363321  , ...,   52.31429232,\n",
    "         171.19426457,   78.85661425]])},\n",
    "                     n_neighbors=60)\n",
    "___________________________________________\n",
    "\n",
    "\n"
   ]
  },
  {
   "cell_type": "markdown",
   "metadata": {},
   "source": [
    "# Train test split \n",
    "\n"
   ]
  },
  {
   "cell_type": "code",
   "execution_count": 6,
   "metadata": {},
   "outputs": [
    {
     "name": "stdout",
     "output_type": "stream",
     "text": [
      "________________________________________________\n",
      " X_test : (1119173, 47)\n",
      "________________________________________________\n",
      " y_train: (3357517, 1)\n",
      " y_test : (1119173, 1)\n",
      "________________________________________________\n",
      " X_train_std : (3357517, 47)\n",
      " X_test_std : (1119173, 47)\n"
     ]
    }
   ],
   "source": [
    "# checking shape \n",
    "\n",
    "print('____'*12)\n",
    "\n",
    "print(f\" X_test : {X_test.shape}\")\n",
    "\n",
    "print('____'*12)\n",
    "\n",
    "print(f\" y_train: {y_train.shape}\")\n",
    "print(f\" y_test : {y_test.shape}\")\n",
    "\n",
    "print('____'*12)\n",
    "\n",
    "print(f\" X_train_std : {X_train_std.shape}\")\n",
    "print(f\" X_test_std : {X_test_std.shape}\")\n",
    "\n",
    "\n",
    "\n",
    "\n"
   ]
  },
  {
   "cell_type": "code",
   "execution_count": 7,
   "metadata": {},
   "outputs": [
    {
     "name": "stdout",
     "output_type": "stream",
     "text": [
      " y_train_knn: (10072, 1)\n",
      " y_test_knn : (3347445, 1)\n",
      "________________________________________________\n",
      " X_train_knn : (10072, 47)\n",
      " X_test_knn : (3347445, 47)\n"
     ]
    }
   ],
   "source": [
    "# train_test split on\n",
    "# - X_train_tree_small,  y_train_tree_small\n",
    "\n",
    "\n",
    "X_train_knn, X_test_knn, y_train_knn, y_test_knn = train_test_split(X_train_std, y_train, test_size=0.997, random_state=RSEED, stratify=y_train)\n",
    "\n",
    "\n",
    "\n",
    "print(f\" y_train_knn: {y_train_knn.shape}\")\n",
    "print(f\" y_test_knn : {y_test_knn.shape}\")\n",
    "\n",
    "print('____'*12)\n",
    "\n",
    "print(f\" X_train_knn : {X_train_knn.shape}\")\n",
    "print(f\" X_test_knn : {X_test_knn.shape}\")\n",
    "\n",
    "\n",
    "\n",
    "\n"
   ]
  },
  {
   "cell_type": "code",
   "execution_count": 8,
   "metadata": {},
   "outputs": [
    {
     "name": "stdout",
     "output_type": "stream",
     "text": [
      "_____________________________________________________________________________________________________________________________\n",
      "_____________________________________________________________________________________________________________________________\n"
     ]
    },
    {
     "name": "stderr",
     "output_type": "stream",
     "text": [
      "/Users/graceeze/Documents/data_practitioner_repos/fraud_detection_electricity_company/.venv/lib/python3.11/site-packages/sklearn/neighbors/_classification.py:215: DataConversionWarning: A column-vector y was passed when a 1d array was expected. Please change the shape of y to (n_samples,), for example using ravel().\n",
      "  return self._fit(X, y)\n",
      "/Users/graceeze/Documents/data_practitioner_repos/fraud_detection_electricity_company/.venv/lib/python3.11/site-packages/sklearn/neighbors/_classification.py:215: DataConversionWarning: A column-vector y was passed when a 1d array was expected. Please change the shape of y to (n_samples,), for example using ravel().\n",
      "  return self._fit(X, y)\n",
      "/Users/graceeze/Documents/data_practitioner_repos/fraud_detection_electricity_company/.venv/lib/python3.11/site-packages/sklearn/neighbors/_classification.py:215: DataConversionWarning: A column-vector y was passed when a 1d array was expected. Please change the shape of y to (n_samples,), for example using ravel().\n",
      "  return self._fit(X, y)\n",
      "/Users/graceeze/Documents/data_practitioner_repos/fraud_detection_electricity_company/.venv/lib/python3.11/site-packages/sklearn/neighbors/_classification.py:215: DataConversionWarning: A column-vector y was passed when a 1d array was expected. Please change the shape of y to (n_samples,), for example using ravel().\n",
      "  return self._fit(X, y)\n",
      "/Users/graceeze/Documents/data_practitioner_repos/fraud_detection_electricity_company/.venv/lib/python3.11/site-packages/sklearn/neighbors/_classification.py:215: DataConversionWarning: A column-vector y was passed when a 1d array was expected. Please change the shape of y to (n_samples,), for example using ravel().\n",
      "  return self._fit(X, y)\n",
      "/Users/graceeze/Documents/data_practitioner_repos/fraud_detection_electricity_company/.venv/lib/python3.11/site-packages/sklearn/neighbors/_classification.py:215: DataConversionWarning: A column-vector y was passed when a 1d array was expected. Please change the shape of y to (n_samples,), for example using ravel().\n",
      "  return self._fit(X, y)\n",
      "/Users/graceeze/Documents/data_practitioner_repos/fraud_detection_electricity_company/.venv/lib/python3.11/site-packages/sklearn/neighbors/_classification.py:215: DataConversionWarning: A column-vector y was passed when a 1d array was expected. Please change the shape of y to (n_samples,), for example using ravel().\n",
      "  return self._fit(X, y)\n",
      "/Users/graceeze/Documents/data_practitioner_repos/fraud_detection_electricity_company/.venv/lib/python3.11/site-packages/sklearn/neighbors/_classification.py:215: DataConversionWarning: A column-vector y was passed when a 1d array was expected. Please change the shape of y to (n_samples,), for example using ravel().\n",
      "  return self._fit(X, y)\n",
      "/Users/graceeze/Documents/data_practitioner_repos/fraud_detection_electricity_company/.venv/lib/python3.11/site-packages/sklearn/neighbors/_classification.py:215: DataConversionWarning: A column-vector y was passed when a 1d array was expected. Please change the shape of y to (n_samples,), for example using ravel().\n",
      "  return self._fit(X, y)\n",
      "/Users/graceeze/Documents/data_practitioner_repos/fraud_detection_electricity_company/.venv/lib/python3.11/site-packages/sklearn/neighbors/_classification.py:215: DataConversionWarning: A column-vector y was passed when a 1d array was expected. Please change the shape of y to (n_samples,), for example using ravel().\n",
      "  return self._fit(X, y)\n",
      "/Users/graceeze/Documents/data_practitioner_repos/fraud_detection_electricity_company/.venv/lib/python3.11/site-packages/sklearn/neighbors/_classification.py:215: DataConversionWarning: A column-vector y was passed when a 1d array was expected. Please change the shape of y to (n_samples,), for example using ravel().\n",
      "  return self._fit(X, y)\n",
      "/Users/graceeze/Documents/data_practitioner_repos/fraud_detection_electricity_company/.venv/lib/python3.11/site-packages/sklearn/neighbors/_classification.py:215: DataConversionWarning: A column-vector y was passed when a 1d array was expected. Please change the shape of y to (n_samples,), for example using ravel().\n",
      "  return self._fit(X, y)\n",
      "/Users/graceeze/Documents/data_practitioner_repos/fraud_detection_electricity_company/.venv/lib/python3.11/site-packages/sklearn/neighbors/_classification.py:215: DataConversionWarning: A column-vector y was passed when a 1d array was expected. Please change the shape of y to (n_samples,), for example using ravel().\n",
      "  return self._fit(X, y)\n",
      "/Users/graceeze/Documents/data_practitioner_repos/fraud_detection_electricity_company/.venv/lib/python3.11/site-packages/sklearn/neighbors/_classification.py:215: DataConversionWarning: A column-vector y was passed when a 1d array was expected. Please change the shape of y to (n_samples,), for example using ravel().\n",
      "  return self._fit(X, y)\n",
      "/Users/graceeze/Documents/data_practitioner_repos/fraud_detection_electricity_company/.venv/lib/python3.11/site-packages/sklearn/neighbors/_classification.py:215: DataConversionWarning: A column-vector y was passed when a 1d array was expected. Please change the shape of y to (n_samples,), for example using ravel().\n",
      "  return self._fit(X, y)\n",
      "/Users/graceeze/Documents/data_practitioner_repos/fraud_detection_electricity_company/.venv/lib/python3.11/site-packages/sklearn/neighbors/_classification.py:215: DataConversionWarning: A column-vector y was passed when a 1d array was expected. Please change the shape of y to (n_samples,), for example using ravel().\n",
      "  return self._fit(X, y)\n",
      "/Users/graceeze/Documents/data_practitioner_repos/fraud_detection_electricity_company/.venv/lib/python3.11/site-packages/sklearn/neighbors/_classification.py:215: DataConversionWarning: A column-vector y was passed when a 1d array was expected. Please change the shape of y to (n_samples,), for example using ravel().\n",
      "  return self._fit(X, y)\n",
      "/Users/graceeze/Documents/data_practitioner_repos/fraud_detection_electricity_company/.venv/lib/python3.11/site-packages/sklearn/neighbors/_classification.py:215: DataConversionWarning: A column-vector y was passed when a 1d array was expected. Please change the shape of y to (n_samples,), for example using ravel().\n",
      "  return self._fit(X, y)\n",
      "/Users/graceeze/Documents/data_practitioner_repos/fraud_detection_electricity_company/.venv/lib/python3.11/site-packages/sklearn/neighbors/_classification.py:215: DataConversionWarning: A column-vector y was passed when a 1d array was expected. Please change the shape of y to (n_samples,), for example using ravel().\n",
      "  return self._fit(X, y)\n",
      "/Users/graceeze/Documents/data_practitioner_repos/fraud_detection_electricity_company/.venv/lib/python3.11/site-packages/sklearn/neighbors/_classification.py:215: DataConversionWarning: A column-vector y was passed when a 1d array was expected. Please change the shape of y to (n_samples,), for example using ravel().\n",
      "  return self._fit(X, y)\n",
      "/Users/graceeze/Documents/data_practitioner_repos/fraud_detection_electricity_company/.venv/lib/python3.11/site-packages/sklearn/neighbors/_classification.py:215: DataConversionWarning: A column-vector y was passed when a 1d array was expected. Please change the shape of y to (n_samples,), for example using ravel().\n",
      "  return self._fit(X, y)\n",
      "/Users/graceeze/Documents/data_practitioner_repos/fraud_detection_electricity_company/.venv/lib/python3.11/site-packages/sklearn/neighbors/_classification.py:215: DataConversionWarning: A column-vector y was passed when a 1d array was expected. Please change the shape of y to (n_samples,), for example using ravel().\n",
      "  return self._fit(X, y)\n",
      "/Users/graceeze/Documents/data_practitioner_repos/fraud_detection_electricity_company/.venv/lib/python3.11/site-packages/sklearn/neighbors/_classification.py:215: DataConversionWarning: A column-vector y was passed when a 1d array was expected. Please change the shape of y to (n_samples,), for example using ravel().\n",
      "  return self._fit(X, y)\n",
      "/Users/graceeze/Documents/data_practitioner_repos/fraud_detection_electricity_company/.venv/lib/python3.11/site-packages/sklearn/neighbors/_classification.py:215: DataConversionWarning: A column-vector y was passed when a 1d array was expected. Please change the shape of y to (n_samples,), for example using ravel().\n",
      "  return self._fit(X, y)\n",
      "/Users/graceeze/Documents/data_practitioner_repos/fraud_detection_electricity_company/.venv/lib/python3.11/site-packages/sklearn/neighbors/_classification.py:215: DataConversionWarning: A column-vector y was passed when a 1d array was expected. Please change the shape of y to (n_samples,), for example using ravel().\n",
      "  return self._fit(X, y)\n",
      "/Users/graceeze/Documents/data_practitioner_repos/fraud_detection_electricity_company/.venv/lib/python3.11/site-packages/sklearn/neighbors/_classification.py:215: DataConversionWarning: A column-vector y was passed when a 1d array was expected. Please change the shape of y to (n_samples,), for example using ravel().\n",
      "  return self._fit(X, y)\n",
      "/Users/graceeze/Documents/data_practitioner_repos/fraud_detection_electricity_company/.venv/lib/python3.11/site-packages/sklearn/neighbors/_classification.py:215: DataConversionWarning: A column-vector y was passed when a 1d array was expected. Please change the shape of y to (n_samples,), for example using ravel().\n",
      "  return self._fit(X, y)\n",
      "/Users/graceeze/Documents/data_practitioner_repos/fraud_detection_electricity_company/.venv/lib/python3.11/site-packages/sklearn/neighbors/_classification.py:215: DataConversionWarning: A column-vector y was passed when a 1d array was expected. Please change the shape of y to (n_samples,), for example using ravel().\n",
      "  return self._fit(X, y)\n",
      "/Users/graceeze/Documents/data_practitioner_repos/fraud_detection_electricity_company/.venv/lib/python3.11/site-packages/sklearn/neighbors/_classification.py:215: DataConversionWarning: A column-vector y was passed when a 1d array was expected. Please change the shape of y to (n_samples,), for example using ravel().\n",
      "  return self._fit(X, y)\n",
      "/Users/graceeze/Documents/data_practitioner_repos/fraud_detection_electricity_company/.venv/lib/python3.11/site-packages/sklearn/neighbors/_classification.py:215: DataConversionWarning: A column-vector y was passed when a 1d array was expected. Please change the shape of y to (n_samples,), for example using ravel().\n",
      "  return self._fit(X, y)\n",
      "/Users/graceeze/Documents/data_practitioner_repos/fraud_detection_electricity_company/.venv/lib/python3.11/site-packages/sklearn/neighbors/_classification.py:215: DataConversionWarning: A column-vector y was passed when a 1d array was expected. Please change the shape of y to (n_samples,), for example using ravel().\n",
      "  return self._fit(X, y)\n",
      "/Users/graceeze/Documents/data_practitioner_repos/fraud_detection_electricity_company/.venv/lib/python3.11/site-packages/sklearn/neighbors/_classification.py:215: DataConversionWarning: A column-vector y was passed when a 1d array was expected. Please change the shape of y to (n_samples,), for example using ravel().\n",
      "  return self._fit(X, y)\n",
      "/Users/graceeze/Documents/data_practitioner_repos/fraud_detection_electricity_company/.venv/lib/python3.11/site-packages/sklearn/neighbors/_classification.py:215: DataConversionWarning: A column-vector y was passed when a 1d array was expected. Please change the shape of y to (n_samples,), for example using ravel().\n",
      "  return self._fit(X, y)\n",
      "/Users/graceeze/Documents/data_practitioner_repos/fraud_detection_electricity_company/.venv/lib/python3.11/site-packages/sklearn/neighbors/_classification.py:215: DataConversionWarning: A column-vector y was passed when a 1d array was expected. Please change the shape of y to (n_samples,), for example using ravel().\n",
      "  return self._fit(X, y)\n",
      "/Users/graceeze/Documents/data_practitioner_repos/fraud_detection_electricity_company/.venv/lib/python3.11/site-packages/sklearn/neighbors/_classification.py:215: DataConversionWarning: A column-vector y was passed when a 1d array was expected. Please change the shape of y to (n_samples,), for example using ravel().\n",
      "  return self._fit(X, y)\n",
      "/Users/graceeze/Documents/data_practitioner_repos/fraud_detection_electricity_company/.venv/lib/python3.11/site-packages/sklearn/neighbors/_classification.py:215: DataConversionWarning: A column-vector y was passed when a 1d array was expected. Please change the shape of y to (n_samples,), for example using ravel().\n",
      "  return self._fit(X, y)\n",
      "/Users/graceeze/Documents/data_practitioner_repos/fraud_detection_electricity_company/.venv/lib/python3.11/site-packages/sklearn/neighbors/_classification.py:215: DataConversionWarning: A column-vector y was passed when a 1d array was expected. Please change the shape of y to (n_samples,), for example using ravel().\n",
      "  return self._fit(X, y)\n",
      "/Users/graceeze/Documents/data_practitioner_repos/fraud_detection_electricity_company/.venv/lib/python3.11/site-packages/sklearn/neighbors/_classification.py:215: DataConversionWarning: A column-vector y was passed when a 1d array was expected. Please change the shape of y to (n_samples,), for example using ravel().\n",
      "  return self._fit(X, y)\n",
      "/Users/graceeze/Documents/data_practitioner_repos/fraud_detection_electricity_company/.venv/lib/python3.11/site-packages/sklearn/neighbors/_classification.py:215: DataConversionWarning: A column-vector y was passed when a 1d array was expected. Please change the shape of y to (n_samples,), for example using ravel().\n",
      "  return self._fit(X, y)\n",
      "/Users/graceeze/Documents/data_practitioner_repos/fraud_detection_electricity_company/.venv/lib/python3.11/site-packages/sklearn/neighbors/_classification.py:215: DataConversionWarning: A column-vector y was passed when a 1d array was expected. Please change the shape of y to (n_samples,), for example using ravel().\n",
      "  return self._fit(X, y)\n",
      "/Users/graceeze/Documents/data_practitioner_repos/fraud_detection_electricity_company/.venv/lib/python3.11/site-packages/sklearn/neighbors/_classification.py:215: DataConversionWarning: A column-vector y was passed when a 1d array was expected. Please change the shape of y to (n_samples,), for example using ravel().\n",
      "  return self._fit(X, y)\n",
      "/Users/graceeze/Documents/data_practitioner_repos/fraud_detection_electricity_company/.venv/lib/python3.11/site-packages/sklearn/neighbors/_classification.py:215: DataConversionWarning: A column-vector y was passed when a 1d array was expected. Please change the shape of y to (n_samples,), for example using ravel().\n",
      "  return self._fit(X, y)\n",
      "/Users/graceeze/Documents/data_practitioner_repos/fraud_detection_electricity_company/.venv/lib/python3.11/site-packages/sklearn/neighbors/_classification.py:215: DataConversionWarning: A column-vector y was passed when a 1d array was expected. Please change the shape of y to (n_samples,), for example using ravel().\n",
      "  return self._fit(X, y)\n",
      "/Users/graceeze/Documents/data_practitioner_repos/fraud_detection_electricity_company/.venv/lib/python3.11/site-packages/sklearn/neighbors/_classification.py:215: DataConversionWarning: A column-vector y was passed when a 1d array was expected. Please change the shape of y to (n_samples,), for example using ravel().\n",
      "  return self._fit(X, y)\n",
      "/Users/graceeze/Documents/data_practitioner_repos/fraud_detection_electricity_company/.venv/lib/python3.11/site-packages/sklearn/neighbors/_classification.py:215: DataConversionWarning: A column-vector y was passed when a 1d array was expected. Please change the shape of y to (n_samples,), for example using ravel().\n",
      "  return self._fit(X, y)\n",
      "/Users/graceeze/Documents/data_practitioner_repos/fraud_detection_electricity_company/.venv/lib/python3.11/site-packages/sklearn/neighbors/_classification.py:215: DataConversionWarning: A column-vector y was passed when a 1d array was expected. Please change the shape of y to (n_samples,), for example using ravel().\n",
      "  return self._fit(X, y)\n",
      "/Users/graceeze/Documents/data_practitioner_repos/fraud_detection_electricity_company/.venv/lib/python3.11/site-packages/sklearn/neighbors/_classification.py:215: DataConversionWarning: A column-vector y was passed when a 1d array was expected. Please change the shape of y to (n_samples,), for example using ravel().\n",
      "  return self._fit(X, y)\n",
      "/Users/graceeze/Documents/data_practitioner_repos/fraud_detection_electricity_company/.venv/lib/python3.11/site-packages/sklearn/neighbors/_classification.py:215: DataConversionWarning: A column-vector y was passed when a 1d array was expected. Please change the shape of y to (n_samples,), for example using ravel().\n",
      "  return self._fit(X, y)\n",
      "/Users/graceeze/Documents/data_practitioner_repos/fraud_detection_electricity_company/.venv/lib/python3.11/site-packages/sklearn/neighbors/_classification.py:215: DataConversionWarning: A column-vector y was passed when a 1d array was expected. Please change the shape of y to (n_samples,), for example using ravel().\n",
      "  return self._fit(X, y)\n",
      "/Users/graceeze/Documents/data_practitioner_repos/fraud_detection_electricity_company/.venv/lib/python3.11/site-packages/sklearn/neighbors/_classification.py:215: DataConversionWarning: A column-vector y was passed when a 1d array was expected. Please change the shape of y to (n_samples,), for example using ravel().\n",
      "  return self._fit(X, y)\n",
      "/Users/graceeze/Documents/data_practitioner_repos/fraud_detection_electricity_company/.venv/lib/python3.11/site-packages/sklearn/neighbors/_classification.py:215: DataConversionWarning: A column-vector y was passed when a 1d array was expected. Please change the shape of y to (n_samples,), for example using ravel().\n",
      "  return self._fit(X, y)\n",
      "/Users/graceeze/Documents/data_practitioner_repos/fraud_detection_electricity_company/.venv/lib/python3.11/site-packages/sklearn/neighbors/_classification.py:215: DataConversionWarning: A column-vector y was passed when a 1d array was expected. Please change the shape of y to (n_samples,), for example using ravel().\n",
      "  return self._fit(X, y)\n",
      "/Users/graceeze/Documents/data_practitioner_repos/fraud_detection_electricity_company/.venv/lib/python3.11/site-packages/sklearn/neighbors/_classification.py:215: DataConversionWarning: A column-vector y was passed when a 1d array was expected. Please change the shape of y to (n_samples,), for example using ravel().\n",
      "  return self._fit(X, y)\n",
      "/Users/graceeze/Documents/data_practitioner_repos/fraud_detection_electricity_company/.venv/lib/python3.11/site-packages/sklearn/neighbors/_classification.py:215: DataConversionWarning: A column-vector y was passed when a 1d array was expected. Please change the shape of y to (n_samples,), for example using ravel().\n",
      "  return self._fit(X, y)\n",
      "/Users/graceeze/Documents/data_practitioner_repos/fraud_detection_electricity_company/.venv/lib/python3.11/site-packages/sklearn/neighbors/_classification.py:215: DataConversionWarning: A column-vector y was passed when a 1d array was expected. Please change the shape of y to (n_samples,), for example using ravel().\n",
      "  return self._fit(X, y)\n",
      "/Users/graceeze/Documents/data_practitioner_repos/fraud_detection_electricity_company/.venv/lib/python3.11/site-packages/sklearn/neighbors/_classification.py:215: DataConversionWarning: A column-vector y was passed when a 1d array was expected. Please change the shape of y to (n_samples,), for example using ravel().\n",
      "  return self._fit(X, y)\n",
      "/Users/graceeze/Documents/data_practitioner_repos/fraud_detection_electricity_company/.venv/lib/python3.11/site-packages/sklearn/neighbors/_classification.py:215: DataConversionWarning: A column-vector y was passed when a 1d array was expected. Please change the shape of y to (n_samples,), for example using ravel().\n",
      "  return self._fit(X, y)\n",
      "/Users/graceeze/Documents/data_practitioner_repos/fraud_detection_electricity_company/.venv/lib/python3.11/site-packages/sklearn/neighbors/_classification.py:215: DataConversionWarning: A column-vector y was passed when a 1d array was expected. Please change the shape of y to (n_samples,), for example using ravel().\n",
      "  return self._fit(X, y)\n",
      "/Users/graceeze/Documents/data_practitioner_repos/fraud_detection_electricity_company/.venv/lib/python3.11/site-packages/sklearn/neighbors/_classification.py:215: DataConversionWarning: A column-vector y was passed when a 1d array was expected. Please change the shape of y to (n_samples,), for example using ravel().\n",
      "  return self._fit(X, y)\n",
      "/Users/graceeze/Documents/data_practitioner_repos/fraud_detection_electricity_company/.venv/lib/python3.11/site-packages/sklearn/neighbors/_classification.py:215: DataConversionWarning: A column-vector y was passed when a 1d array was expected. Please change the shape of y to (n_samples,), for example using ravel().\n",
      "  return self._fit(X, y)\n",
      "/Users/graceeze/Documents/data_practitioner_repos/fraud_detection_electricity_company/.venv/lib/python3.11/site-packages/sklearn/neighbors/_classification.py:215: DataConversionWarning: A column-vector y was passed when a 1d array was expected. Please change the shape of y to (n_samples,), for example using ravel().\n",
      "  return self._fit(X, y)\n",
      "/Users/graceeze/Documents/data_practitioner_repos/fraud_detection_electricity_company/.venv/lib/python3.11/site-packages/sklearn/neighbors/_classification.py:215: DataConversionWarning: A column-vector y was passed when a 1d array was expected. Please change the shape of y to (n_samples,), for example using ravel().\n",
      "  return self._fit(X, y)\n",
      "/Users/graceeze/Documents/data_practitioner_repos/fraud_detection_electricity_company/.venv/lib/python3.11/site-packages/sklearn/neighbors/_classification.py:215: DataConversionWarning: A column-vector y was passed when a 1d array was expected. Please change the shape of y to (n_samples,), for example using ravel().\n",
      "  return self._fit(X, y)\n",
      "/Users/graceeze/Documents/data_practitioner_repos/fraud_detection_electricity_company/.venv/lib/python3.11/site-packages/sklearn/neighbors/_classification.py:215: DataConversionWarning: A column-vector y was passed when a 1d array was expected. Please change the shape of y to (n_samples,), for example using ravel().\n",
      "  return self._fit(X, y)\n",
      "/Users/graceeze/Documents/data_practitioner_repos/fraud_detection_electricity_company/.venv/lib/python3.11/site-packages/sklearn/neighbors/_classification.py:215: DataConversionWarning: A column-vector y was passed when a 1d array was expected. Please change the shape of y to (n_samples,), for example using ravel().\n",
      "  return self._fit(X, y)\n",
      "/Users/graceeze/Documents/data_practitioner_repos/fraud_detection_electricity_company/.venv/lib/python3.11/site-packages/sklearn/neighbors/_classification.py:215: DataConversionWarning: A column-vector y was passed when a 1d array was expected. Please change the shape of y to (n_samples,), for example using ravel().\n",
      "  return self._fit(X, y)\n",
      "/Users/graceeze/Documents/data_practitioner_repos/fraud_detection_electricity_company/.venv/lib/python3.11/site-packages/sklearn/neighbors/_classification.py:215: DataConversionWarning: A column-vector y was passed when a 1d array was expected. Please change the shape of y to (n_samples,), for example using ravel().\n",
      "  return self._fit(X, y)\n",
      "/Users/graceeze/Documents/data_practitioner_repos/fraud_detection_electricity_company/.venv/lib/python3.11/site-packages/sklearn/neighbors/_classification.py:215: DataConversionWarning: A column-vector y was passed when a 1d array was expected. Please change the shape of y to (n_samples,), for example using ravel().\n",
      "  return self._fit(X, y)\n",
      "/Users/graceeze/Documents/data_practitioner_repos/fraud_detection_electricity_company/.venv/lib/python3.11/site-packages/sklearn/neighbors/_classification.py:215: DataConversionWarning: A column-vector y was passed when a 1d array was expected. Please change the shape of y to (n_samples,), for example using ravel().\n",
      "  return self._fit(X, y)\n",
      "/Users/graceeze/Documents/data_practitioner_repos/fraud_detection_electricity_company/.venv/lib/python3.11/site-packages/sklearn/neighbors/_classification.py:215: DataConversionWarning: A column-vector y was passed when a 1d array was expected. Please change the shape of y to (n_samples,), for example using ravel().\n",
      "  return self._fit(X, y)\n",
      "/Users/graceeze/Documents/data_practitioner_repos/fraud_detection_electricity_company/.venv/lib/python3.11/site-packages/sklearn/neighbors/_classification.py:215: DataConversionWarning: A column-vector y was passed when a 1d array was expected. Please change the shape of y to (n_samples,), for example using ravel().\n",
      "  return self._fit(X, y)\n",
      "/Users/graceeze/Documents/data_practitioner_repos/fraud_detection_electricity_company/.venv/lib/python3.11/site-packages/sklearn/neighbors/_classification.py:215: DataConversionWarning: A column-vector y was passed when a 1d array was expected. Please change the shape of y to (n_samples,), for example using ravel().\n",
      "  return self._fit(X, y)\n",
      "/Users/graceeze/Documents/data_practitioner_repos/fraud_detection_electricity_company/.venv/lib/python3.11/site-packages/sklearn/neighbors/_classification.py:215: DataConversionWarning: A column-vector y was passed when a 1d array was expected. Please change the shape of y to (n_samples,), for example using ravel().\n",
      "  return self._fit(X, y)\n",
      "/Users/graceeze/Documents/data_practitioner_repos/fraud_detection_electricity_company/.venv/lib/python3.11/site-packages/sklearn/neighbors/_classification.py:215: DataConversionWarning: A column-vector y was passed when a 1d array was expected. Please change the shape of y to (n_samples,), for example using ravel().\n",
      "  return self._fit(X, y)\n",
      "/Users/graceeze/Documents/data_practitioner_repos/fraud_detection_electricity_company/.venv/lib/python3.11/site-packages/sklearn/neighbors/_classification.py:215: DataConversionWarning: A column-vector y was passed when a 1d array was expected. Please change the shape of y to (n_samples,), for example using ravel().\n",
      "  return self._fit(X, y)\n",
      "/Users/graceeze/Documents/data_practitioner_repos/fraud_detection_electricity_company/.venv/lib/python3.11/site-packages/sklearn/neighbors/_classification.py:215: DataConversionWarning: A column-vector y was passed when a 1d array was expected. Please change the shape of y to (n_samples,), for example using ravel().\n",
      "  return self._fit(X, y)\n",
      "/Users/graceeze/Documents/data_practitioner_repos/fraud_detection_electricity_company/.venv/lib/python3.11/site-packages/sklearn/neighbors/_classification.py:215: DataConversionWarning: A column-vector y was passed when a 1d array was expected. Please change the shape of y to (n_samples,), for example using ravel().\n",
      "  return self._fit(X, y)\n",
      "/Users/graceeze/Documents/data_practitioner_repos/fraud_detection_electricity_company/.venv/lib/python3.11/site-packages/sklearn/neighbors/_classification.py:215: DataConversionWarning: A column-vector y was passed when a 1d array was expected. Please change the shape of y to (n_samples,), for example using ravel().\n",
      "  return self._fit(X, y)\n",
      "/Users/graceeze/Documents/data_practitioner_repos/fraud_detection_electricity_company/.venv/lib/python3.11/site-packages/sklearn/neighbors/_classification.py:215: DataConversionWarning: A column-vector y was passed when a 1d array was expected. Please change the shape of y to (n_samples,), for example using ravel().\n",
      "  return self._fit(X, y)\n",
      "/Users/graceeze/Documents/data_practitioner_repos/fraud_detection_electricity_company/.venv/lib/python3.11/site-packages/sklearn/neighbors/_classification.py:215: DataConversionWarning: A column-vector y was passed when a 1d array was expected. Please change the shape of y to (n_samples,), for example using ravel().\n",
      "  return self._fit(X, y)\n",
      "/Users/graceeze/Documents/data_practitioner_repos/fraud_detection_electricity_company/.venv/lib/python3.11/site-packages/sklearn/neighbors/_classification.py:215: DataConversionWarning: A column-vector y was passed when a 1d array was expected. Please change the shape of y to (n_samples,), for example using ravel().\n",
      "  return self._fit(X, y)\n",
      "/Users/graceeze/Documents/data_practitioner_repos/fraud_detection_electricity_company/.venv/lib/python3.11/site-packages/sklearn/neighbors/_classification.py:215: DataConversionWarning: A column-vector y was passed when a 1d array was expected. Please change the shape of y to (n_samples,), for example using ravel().\n",
      "  return self._fit(X, y)\n",
      "/Users/graceeze/Documents/data_practitioner_repos/fraud_detection_electricity_company/.venv/lib/python3.11/site-packages/sklearn/neighbors/_classification.py:215: DataConversionWarning: A column-vector y was passed when a 1d array was expected. Please change the shape of y to (n_samples,), for example using ravel().\n",
      "  return self._fit(X, y)\n",
      "/Users/graceeze/Documents/data_practitioner_repos/fraud_detection_electricity_company/.venv/lib/python3.11/site-packages/sklearn/neighbors/_classification.py:215: DataConversionWarning: A column-vector y was passed when a 1d array was expected. Please change the shape of y to (n_samples,), for example using ravel().\n",
      "  return self._fit(X, y)\n",
      "/Users/graceeze/Documents/data_practitioner_repos/fraud_detection_electricity_company/.venv/lib/python3.11/site-packages/sklearn/neighbors/_classification.py:215: DataConversionWarning: A column-vector y was passed when a 1d array was expected. Please change the shape of y to (n_samples,), for example using ravel().\n",
      "  return self._fit(X, y)\n",
      "/Users/graceeze/Documents/data_practitioner_repos/fraud_detection_electricity_company/.venv/lib/python3.11/site-packages/sklearn/neighbors/_classification.py:215: DataConversionWarning: A column-vector y was passed when a 1d array was expected. Please change the shape of y to (n_samples,), for example using ravel().\n",
      "  return self._fit(X, y)\n",
      "/Users/graceeze/Documents/data_practitioner_repos/fraud_detection_electricity_company/.venv/lib/python3.11/site-packages/sklearn/neighbors/_classification.py:215: DataConversionWarning: A column-vector y was passed when a 1d array was expected. Please change the shape of y to (n_samples,), for example using ravel().\n",
      "  return self._fit(X, y)\n",
      "/Users/graceeze/Documents/data_practitioner_repos/fraud_detection_electricity_company/.venv/lib/python3.11/site-packages/sklearn/neighbors/_classification.py:215: DataConversionWarning: A column-vector y was passed when a 1d array was expected. Please change the shape of y to (n_samples,), for example using ravel().\n",
      "  return self._fit(X, y)\n",
      "/Users/graceeze/Documents/data_practitioner_repos/fraud_detection_electricity_company/.venv/lib/python3.11/site-packages/sklearn/neighbors/_classification.py:215: DataConversionWarning: A column-vector y was passed when a 1d array was expected. Please change the shape of y to (n_samples,), for example using ravel().\n",
      "  return self._fit(X, y)\n",
      "/Users/graceeze/Documents/data_practitioner_repos/fraud_detection_electricity_company/.venv/lib/python3.11/site-packages/sklearn/neighbors/_classification.py:215: DataConversionWarning: A column-vector y was passed when a 1d array was expected. Please change the shape of y to (n_samples,), for example using ravel().\n",
      "  return self._fit(X, y)\n",
      "/Users/graceeze/Documents/data_practitioner_repos/fraud_detection_electricity_company/.venv/lib/python3.11/site-packages/sklearn/neighbors/_classification.py:215: DataConversionWarning: A column-vector y was passed when a 1d array was expected. Please change the shape of y to (n_samples,), for example using ravel().\n",
      "  return self._fit(X, y)\n",
      "/Users/graceeze/Documents/data_practitioner_repos/fraud_detection_electricity_company/.venv/lib/python3.11/site-packages/sklearn/neighbors/_classification.py:215: DataConversionWarning: A column-vector y was passed when a 1d array was expected. Please change the shape of y to (n_samples,), for example using ravel().\n",
      "  return self._fit(X, y)\n",
      "/Users/graceeze/Documents/data_practitioner_repos/fraud_detection_electricity_company/.venv/lib/python3.11/site-packages/sklearn/neighbors/_classification.py:215: DataConversionWarning: A column-vector y was passed when a 1d array was expected. Please change the shape of y to (n_samples,), for example using ravel().\n",
      "  return self._fit(X, y)\n",
      "/Users/graceeze/Documents/data_practitioner_repos/fraud_detection_electricity_company/.venv/lib/python3.11/site-packages/sklearn/neighbors/_classification.py:215: DataConversionWarning: A column-vector y was passed when a 1d array was expected. Please change the shape of y to (n_samples,), for example using ravel().\n",
      "  return self._fit(X, y)\n",
      "/Users/graceeze/Documents/data_practitioner_repos/fraud_detection_electricity_company/.venv/lib/python3.11/site-packages/sklearn/neighbors/_classification.py:215: DataConversionWarning: A column-vector y was passed when a 1d array was expected. Please change the shape of y to (n_samples,), for example using ravel().\n",
      "  return self._fit(X, y)\n",
      "/Users/graceeze/Documents/data_practitioner_repos/fraud_detection_electricity_company/.venv/lib/python3.11/site-packages/sklearn/neighbors/_classification.py:215: DataConversionWarning: A column-vector y was passed when a 1d array was expected. Please change the shape of y to (n_samples,), for example using ravel().\n",
      "  return self._fit(X, y)\n",
      "/Users/graceeze/Documents/data_practitioner_repos/fraud_detection_electricity_company/.venv/lib/python3.11/site-packages/sklearn/neighbors/_classification.py:215: DataConversionWarning: A column-vector y was passed when a 1d array was expected. Please change the shape of y to (n_samples,), for example using ravel().\n",
      "  return self._fit(X, y)\n",
      "/Users/graceeze/Documents/data_practitioner_repos/fraud_detection_electricity_company/.venv/lib/python3.11/site-packages/sklearn/neighbors/_classification.py:215: DataConversionWarning: A column-vector y was passed when a 1d array was expected. Please change the shape of y to (n_samples,), for example using ravel().\n",
      "  return self._fit(X, y)\n",
      "/Users/graceeze/Documents/data_practitioner_repos/fraud_detection_electricity_company/.venv/lib/python3.11/site-packages/sklearn/neighbors/_classification.py:215: DataConversionWarning: A column-vector y was passed when a 1d array was expected. Please change the shape of y to (n_samples,), for example using ravel().\n",
      "  return self._fit(X, y)\n",
      "/Users/graceeze/Documents/data_practitioner_repos/fraud_detection_electricity_company/.venv/lib/python3.11/site-packages/sklearn/neighbors/_classification.py:215: DataConversionWarning: A column-vector y was passed when a 1d array was expected. Please change the shape of y to (n_samples,), for example using ravel().\n",
      "  return self._fit(X, y)\n"
     ]
    },
    {
     "name": "stdout",
     "output_type": "stream",
     "text": [
      "_____________________________________________________________________________________________________________________________\n",
      "_____________________________________________________________________________________________________________________________\n",
      "_____________________________________________________________________________________________________________________________\n",
      "best K random search: 47\n",
      "best metric random search: cosine\n",
      "_____________________________________________________________________________________________________________________________\n"
     ]
    }
   ],
   "source": [
    "# cross validation : random search\n",
    "\n",
    "cv_params_1 = [\n",
    "    {'n_neighbors': np.arange(15, 61), 'metric': ['euclidean', 'manhattan', 'cosine']},\n",
    "    # {'n_neighbors': np.arange(1, 51), 'metric': ['mahalanobis', 'seuclidean'],\n",
    "    # 'metric_params': [{'V': np.cov(n10k_x_train)}]},\n",
    "    {'n_neighbors': np.arange(15, 61), \n",
    "    'metric': ['mahalanobis'],\n",
    "    'metric_params': [{'VI': np.cov(X_train_knn)}],\n",
    "    'algorithm' : ['auto', 'brute', 'kd_tree', 'ball_tree'],\n",
    "    'weights': ['uniform', 'distance']\n",
    "    }\n",
    "]\n",
    "\n",
    "\n",
    "\n",
    "# scoring = ['fbeta_score', 'f1_score', 'roc_auc_score', 'balanced_accuracy_score']\n",
    "# scoring = ['roc_auc', 'f1_weighted', 'balanced_accuracy']\n",
    "\n",
    "knn_cv_test_1 = KNeighborsClassifier()\n",
    "\n",
    "knn_cv_rs_1 = RandomizedSearchCV(knn_cv_test_1, cv_params_1, \n",
    "                                scoring = 'roc_auc', \n",
    "                                cv= 5, verbose= 0, n_iter= 20, n_jobs = -1, \n",
    "                                return_train_score= True, random_state= RSEED ) #, refit= False)\n",
    "\n",
    "\n",
    "print(\"_____\"*25)\n",
    "print(\"_____\"*25)\n",
    "\n",
    "# fit model with best param\n",
    "knn_cv_rs_1.fit(X_train_knn, y_train_knn)\n",
    "\n",
    "print(\"_____\"*25)\n",
    "print(\"_____\"*25)\n",
    "\n",
    "\n",
    "# get optimal K hyperparameter and metric\n",
    "\n",
    "best_k_1 = knn_cv_rs_1.best_params_.get('n_neighbors')\n",
    "best_metric_1 = knn_cv_rs_1.best_params_.get('metric')\n",
    "\n",
    "print(\"_____\"*25)\n",
    "\n",
    "print(f\"best K random search: {best_k_1}\")\n",
    "print(f\"best metric random search: {best_metric_1}\")\n",
    "\n",
    "print(\"_____\"*25)\n",
    "\n",
    "\n",
    "\n",
    "\n"
   ]
  },
  {
   "cell_type": "code",
   "execution_count": 10,
   "metadata": {},
   "outputs": [
    {
     "data": {
      "text/html": [
       "<div>\n",
       "<style scoped>\n",
       "    .dataframe tbody tr th:only-of-type {\n",
       "        vertical-align: middle;\n",
       "    }\n",
       "\n",
       "    .dataframe tbody tr th {\n",
       "        vertical-align: top;\n",
       "    }\n",
       "\n",
       "    .dataframe thead th {\n",
       "        text-align: right;\n",
       "    }\n",
       "</style>\n",
       "<table border=\"1\" class=\"dataframe\">\n",
       "  <thead>\n",
       "    <tr style=\"text-align: right;\">\n",
       "      <th></th>\n",
       "      <th>weights</th>\n",
       "      <th>n_neighbors</th>\n",
       "      <th>metric</th>\n",
       "      <th>algorithm</th>\n",
       "    </tr>\n",
       "  </thead>\n",
       "  <tbody>\n",
       "    <tr>\n",
       "      <th>0</th>\n",
       "      <td>distance</td>\n",
       "      <td>32</td>\n",
       "      <td>mahalanobis</td>\n",
       "      <td>auto</td>\n",
       "    </tr>\n",
       "    <tr>\n",
       "      <th>1</th>\n",
       "      <td>uniform</td>\n",
       "      <td>37</td>\n",
       "      <td>mahalanobis</td>\n",
       "      <td>brute</td>\n",
       "    </tr>\n",
       "    <tr>\n",
       "      <th>2</th>\n",
       "      <td>distance</td>\n",
       "      <td>53</td>\n",
       "      <td>mahalanobis</td>\n",
       "      <td>ball_tree</td>\n",
       "    </tr>\n",
       "    <tr>\n",
       "      <th>3</th>\n",
       "      <td>NaN</td>\n",
       "      <td>41</td>\n",
       "      <td>manhattan</td>\n",
       "      <td>NaN</td>\n",
       "    </tr>\n",
       "    <tr>\n",
       "      <th>4</th>\n",
       "      <td>uniform</td>\n",
       "      <td>34</td>\n",
       "      <td>mahalanobis</td>\n",
       "      <td>ball_tree</td>\n",
       "    </tr>\n",
       "  </tbody>\n",
       "</table>\n",
       "</div>"
      ],
      "text/plain": [
       "    weights  n_neighbors       metric  algorithm\n",
       "0  distance           32  mahalanobis       auto\n",
       "1   uniform           37  mahalanobis      brute\n",
       "2  distance           53  mahalanobis  ball_tree\n",
       "3       NaN           41    manhattan        NaN\n",
       "4   uniform           34  mahalanobis  ball_tree"
      ]
     },
     "execution_count": 10,
     "metadata": {},
     "output_type": "execute_result"
    }
   ],
   "source": [
    "# params\n",
    "\n",
    "\n",
    "knn_cv_rsp1 = pd.DataFrame(knn_cv_rs_1.cv_results_['params']).drop('metric_params', axis=1)\n",
    "knn_cv_rsp1.head()\n"
   ]
  },
  {
   "cell_type": "code",
   "execution_count": 11,
   "metadata": {},
   "outputs": [
    {
     "data": {
      "text/html": [
       "<div>\n",
       "<style scoped>\n",
       "    .dataframe tbody tr th:only-of-type {\n",
       "        vertical-align: middle;\n",
       "    }\n",
       "\n",
       "    .dataframe tbody tr th {\n",
       "        vertical-align: top;\n",
       "    }\n",
       "\n",
       "    .dataframe thead th {\n",
       "        text-align: right;\n",
       "    }\n",
       "</style>\n",
       "<table border=\"1\" class=\"dataframe\">\n",
       "  <thead>\n",
       "    <tr style=\"text-align: right;\">\n",
       "      <th></th>\n",
       "      <th>weights</th>\n",
       "      <th>n_neighbors</th>\n",
       "      <th>metric</th>\n",
       "      <th>algorithm</th>\n",
       "      <th>mean_train_score</th>\n",
       "      <th>mean_test_score</th>\n",
       "      <th>rank_test_score</th>\n",
       "    </tr>\n",
       "  </thead>\n",
       "  <tbody>\n",
       "    <tr>\n",
       "      <th>0</th>\n",
       "      <td>distance</td>\n",
       "      <td>32</td>\n",
       "      <td>mahalanobis</td>\n",
       "      <td>auto</td>\n",
       "      <td>1.000000</td>\n",
       "      <td>0.523752</td>\n",
       "      <td>10</td>\n",
       "    </tr>\n",
       "    <tr>\n",
       "      <th>1</th>\n",
       "      <td>uniform</td>\n",
       "      <td>37</td>\n",
       "      <td>mahalanobis</td>\n",
       "      <td>brute</td>\n",
       "      <td>0.695677</td>\n",
       "      <td>0.532833</td>\n",
       "      <td>9</td>\n",
       "    </tr>\n",
       "    <tr>\n",
       "      <th>2</th>\n",
       "      <td>distance</td>\n",
       "      <td>53</td>\n",
       "      <td>mahalanobis</td>\n",
       "      <td>ball_tree</td>\n",
       "      <td>NaN</td>\n",
       "      <td>NaN</td>\n",
       "      <td>12</td>\n",
       "    </tr>\n",
       "    <tr>\n",
       "      <th>3</th>\n",
       "      <td>NaN</td>\n",
       "      <td>41</td>\n",
       "      <td>manhattan</td>\n",
       "      <td>NaN</td>\n",
       "      <td>0.734547</td>\n",
       "      <td>0.616728</td>\n",
       "      <td>4</td>\n",
       "    </tr>\n",
       "    <tr>\n",
       "      <th>4</th>\n",
       "      <td>uniform</td>\n",
       "      <td>34</td>\n",
       "      <td>mahalanobis</td>\n",
       "      <td>ball_tree</td>\n",
       "      <td>NaN</td>\n",
       "      <td>NaN</td>\n",
       "      <td>12</td>\n",
       "    </tr>\n",
       "    <tr>\n",
       "      <th>5</th>\n",
       "      <td>NaN</td>\n",
       "      <td>45</td>\n",
       "      <td>manhattan</td>\n",
       "      <td>NaN</td>\n",
       "      <td>0.729190</td>\n",
       "      <td>0.620729</td>\n",
       "      <td>3</td>\n",
       "    </tr>\n",
       "    <tr>\n",
       "      <th>6</th>\n",
       "      <td>uniform</td>\n",
       "      <td>58</td>\n",
       "      <td>mahalanobis</td>\n",
       "      <td>brute</td>\n",
       "      <td>0.676397</td>\n",
       "      <td>0.550461</td>\n",
       "      <td>6</td>\n",
       "    </tr>\n",
       "    <tr>\n",
       "      <th>7</th>\n",
       "      <td>uniform</td>\n",
       "      <td>16</td>\n",
       "      <td>mahalanobis</td>\n",
       "      <td>auto</td>\n",
       "      <td>0.759151</td>\n",
       "      <td>0.510615</td>\n",
       "      <td>11</td>\n",
       "    </tr>\n",
       "    <tr>\n",
       "      <th>8</th>\n",
       "      <td>distance</td>\n",
       "      <td>43</td>\n",
       "      <td>mahalanobis</td>\n",
       "      <td>ball_tree</td>\n",
       "      <td>NaN</td>\n",
       "      <td>NaN</td>\n",
       "      <td>12</td>\n",
       "    </tr>\n",
       "    <tr>\n",
       "      <th>9</th>\n",
       "      <td>uniform</td>\n",
       "      <td>58</td>\n",
       "      <td>mahalanobis</td>\n",
       "      <td>ball_tree</td>\n",
       "      <td>NaN</td>\n",
       "      <td>NaN</td>\n",
       "      <td>12</td>\n",
       "    </tr>\n",
       "    <tr>\n",
       "      <th>10</th>\n",
       "      <td>uniform</td>\n",
       "      <td>55</td>\n",
       "      <td>mahalanobis</td>\n",
       "      <td>auto</td>\n",
       "      <td>0.678842</td>\n",
       "      <td>0.547335</td>\n",
       "      <td>7</td>\n",
       "    </tr>\n",
       "    <tr>\n",
       "      <th>11</th>\n",
       "      <td>NaN</td>\n",
       "      <td>24</td>\n",
       "      <td>euclidean</td>\n",
       "      <td>NaN</td>\n",
       "      <td>0.776644</td>\n",
       "      <td>0.612050</td>\n",
       "      <td>5</td>\n",
       "    </tr>\n",
       "    <tr>\n",
       "      <th>12</th>\n",
       "      <td>uniform</td>\n",
       "      <td>15</td>\n",
       "      <td>mahalanobis</td>\n",
       "      <td>ball_tree</td>\n",
       "      <td>NaN</td>\n",
       "      <td>NaN</td>\n",
       "      <td>12</td>\n",
       "    </tr>\n",
       "    <tr>\n",
       "      <th>13</th>\n",
       "      <td>NaN</td>\n",
       "      <td>47</td>\n",
       "      <td>manhattan</td>\n",
       "      <td>NaN</td>\n",
       "      <td>0.726222</td>\n",
       "      <td>0.621828</td>\n",
       "      <td>2</td>\n",
       "    </tr>\n",
       "    <tr>\n",
       "      <th>14</th>\n",
       "      <td>distance</td>\n",
       "      <td>15</td>\n",
       "      <td>mahalanobis</td>\n",
       "      <td>kd_tree</td>\n",
       "      <td>NaN</td>\n",
       "      <td>NaN</td>\n",
       "      <td>12</td>\n",
       "    </tr>\n",
       "    <tr>\n",
       "      <th>15</th>\n",
       "      <td>distance</td>\n",
       "      <td>44</td>\n",
       "      <td>mahalanobis</td>\n",
       "      <td>ball_tree</td>\n",
       "      <td>NaN</td>\n",
       "      <td>NaN</td>\n",
       "      <td>12</td>\n",
       "    </tr>\n",
       "    <tr>\n",
       "      <th>16</th>\n",
       "      <td>NaN</td>\n",
       "      <td>47</td>\n",
       "      <td>cosine</td>\n",
       "      <td>NaN</td>\n",
       "      <td>0.728291</td>\n",
       "      <td>0.627478</td>\n",
       "      <td>1</td>\n",
       "    </tr>\n",
       "    <tr>\n",
       "      <th>17</th>\n",
       "      <td>uniform</td>\n",
       "      <td>48</td>\n",
       "      <td>mahalanobis</td>\n",
       "      <td>kd_tree</td>\n",
       "      <td>NaN</td>\n",
       "      <td>NaN</td>\n",
       "      <td>12</td>\n",
       "    </tr>\n",
       "    <tr>\n",
       "      <th>18</th>\n",
       "      <td>distance</td>\n",
       "      <td>43</td>\n",
       "      <td>mahalanobis</td>\n",
       "      <td>auto</td>\n",
       "      <td>1.000000</td>\n",
       "      <td>0.533605</td>\n",
       "      <td>8</td>\n",
       "    </tr>\n",
       "    <tr>\n",
       "      <th>19</th>\n",
       "      <td>uniform</td>\n",
       "      <td>32</td>\n",
       "      <td>mahalanobis</td>\n",
       "      <td>ball_tree</td>\n",
       "      <td>NaN</td>\n",
       "      <td>NaN</td>\n",
       "      <td>12</td>\n",
       "    </tr>\n",
       "  </tbody>\n",
       "</table>\n",
       "</div>"
      ],
      "text/plain": [
       "     weights  n_neighbors       metric  algorithm  mean_train_score   \n",
       "0   distance           32  mahalanobis       auto          1.000000  \\\n",
       "1    uniform           37  mahalanobis      brute          0.695677   \n",
       "2   distance           53  mahalanobis  ball_tree               NaN   \n",
       "3        NaN           41    manhattan        NaN          0.734547   \n",
       "4    uniform           34  mahalanobis  ball_tree               NaN   \n",
       "5        NaN           45    manhattan        NaN          0.729190   \n",
       "6    uniform           58  mahalanobis      brute          0.676397   \n",
       "7    uniform           16  mahalanobis       auto          0.759151   \n",
       "8   distance           43  mahalanobis  ball_tree               NaN   \n",
       "9    uniform           58  mahalanobis  ball_tree               NaN   \n",
       "10   uniform           55  mahalanobis       auto          0.678842   \n",
       "11       NaN           24    euclidean        NaN          0.776644   \n",
       "12   uniform           15  mahalanobis  ball_tree               NaN   \n",
       "13       NaN           47    manhattan        NaN          0.726222   \n",
       "14  distance           15  mahalanobis    kd_tree               NaN   \n",
       "15  distance           44  mahalanobis  ball_tree               NaN   \n",
       "16       NaN           47       cosine        NaN          0.728291   \n",
       "17   uniform           48  mahalanobis    kd_tree               NaN   \n",
       "18  distance           43  mahalanobis       auto          1.000000   \n",
       "19   uniform           32  mahalanobis  ball_tree               NaN   \n",
       "\n",
       "    mean_test_score  rank_test_score  \n",
       "0          0.523752               10  \n",
       "1          0.532833                9  \n",
       "2               NaN               12  \n",
       "3          0.616728                4  \n",
       "4               NaN               12  \n",
       "5          0.620729                3  \n",
       "6          0.550461                6  \n",
       "7          0.510615               11  \n",
       "8               NaN               12  \n",
       "9               NaN               12  \n",
       "10         0.547335                7  \n",
       "11         0.612050                5  \n",
       "12              NaN               12  \n",
       "13         0.621828                2  \n",
       "14              NaN               12  \n",
       "15              NaN               12  \n",
       "16         0.627478                1  \n",
       "17              NaN               12  \n",
       "18         0.533605                8  \n",
       "19              NaN               12  "
      ]
     },
     "execution_count": 11,
     "metadata": {},
     "output_type": "execute_result"
    }
   ],
   "source": [
    "# all results the KNN cv\n",
    "\n",
    "knn_cv_rspo = pd.DataFrame(knn_cv_rs_1.cv_results_)[['mean_train_score', 'mean_test_score',  'rank_test_score']]\n",
    "\n",
    "\n",
    "knn_cv_results_1 = pd.concat([knn_cv_rsp1, knn_cv_rspo], axis=1)\n",
    "\n",
    "knn_cv_results_1 \n"
   ]
  },
  {
   "cell_type": "code",
   "execution_count": 9,
   "metadata": {},
   "outputs": [
    {
     "name": "stdout",
     "output_type": "stream",
     "text": [
      "optimal parameters, score, algorithm\n",
      "\n",
      "        \n",
      "_____________________________________________________________________________________________________________________________\n",
      "best score randomcv : 0.6274781018844139\n",
      "_____________________________________________________________________________________________________________________________\n",
      "best params randomcv : {'n_neighbors': 47, 'metric': 'cosine'}\n",
      "_____________________________________________________________________________________________________________________________\n",
      "best estimator randomcv : KNeighborsClassifier(metric='cosine', n_neighbors=47)\n",
      "_____________________________________________________________________________________________________________________________\n"
     ]
    }
   ],
   "source": [
    "\n",
    "# print out best parameters, scoresa and estimator (algorithm)\n",
    "\n",
    "\n",
    "print(f'''optimal parameters, score, algorithm\n",
    "\n",
    "        ''')\n",
    "\n",
    "print(\"_____\"*25)\n",
    "\n",
    "\n",
    "# knn_cv_grid_1.get_params()\n",
    "# knn_cv_grid_1.cv_results_\n",
    "\n",
    "print(f\"best score randomcv : {knn_cv_rs_1.best_score_}\")\n",
    "print(\"_____\"*25)\n",
    "\n",
    "print(f\"best params randomcv : {knn_cv_rs_1.best_params_}\")\n",
    "print(\"_____\"*25)\n",
    "\n",
    "print(f\"best estimator randomcv : {knn_cv_rs_1.best_estimator_}\")\n",
    "print(\"_____\"*25)\n",
    "\n",
    "\n",
    "\n"
   ]
  },
  {
   "cell_type": "code",
   "execution_count": 13,
   "metadata": {},
   "outputs": [
    {
     "data": {
      "text/plain": [
       "0.9211225277786491"
      ]
     },
     "execution_count": 13,
     "metadata": {},
     "output_type": "execute_result"
    }
   ],
   "source": [
    "##\n",
    "# draft fit on X_train\n",
    "\n",
    "best_k_rs = 47\n",
    "\n",
    "knn_rs_cos = KNeighborsClassifier(metric='cosine', n_neighbors=best_k_rs)\n",
    "knn_rs_cos.fit(X_train_knn, y_train_knn)\n",
    "knn_rs_cos.score(X_test_knn, y_test_knn)\n",
    "\n",
    "\n",
    "\n"
   ]
  },
  {
   "cell_type": "code",
   "execution_count": 14,
   "metadata": {},
   "outputs": [
    {
     "data": {
      "text/plain": [
       "{'algorithm': 'auto',\n",
       " 'leaf_size': 30,\n",
       " 'metric': 'cosine',\n",
       " 'metric_params': None,\n",
       " 'n_jobs': None,\n",
       " 'n_neighbors': 47,\n",
       " 'p': 2,\n",
       " 'weights': 'uniform'}"
      ]
     },
     "execution_count": 14,
     "metadata": {},
     "output_type": "execute_result"
    }
   ],
   "source": [
    "# params\n",
    "\n",
    "#knn_pca.get_params().keys()\n",
    "\n",
    "knn_rs_cos.get_params()\n"
   ]
  },
  {
   "cell_type": "markdown",
   "metadata": {},
   "source": [
    "# Evaluation and Results\n"
   ]
  },
  {
   "cell_type": "code",
   "execution_count": 17,
   "metadata": {},
   "outputs": [
    {
     "data": {
      "text/plain": [
       "array([[0.85106383, 0.14893617],\n",
       "       [0.91489362, 0.08510638],\n",
       "       [0.87234043, 0.12765957],\n",
       "       ...,\n",
       "       [0.85106383, 0.14893617],\n",
       "       [0.95744681, 0.04255319],\n",
       "       [0.9787234 , 0.0212766 ]])"
      ]
     },
     "execution_count": 17,
     "metadata": {},
     "output_type": "execute_result"
    }
   ],
   "source": [
    "# predicted probabilities knn random search on standardized large X test\n",
    "\n",
    "x_test_knnrs_probs = knn_rs_cos.predict_proba(X_test_knn)\n",
    "x_test_knnrs_probs\n",
    "\n",
    "\n"
   ]
  },
  {
   "cell_type": "code",
   "execution_count": 21,
   "metadata": {},
   "outputs": [
    {
     "data": {
      "text/plain": [
       "array([[0.95744681, 0.04255319],\n",
       "       [0.9787234 , 0.0212766 ],\n",
       "       [0.82978723, 0.17021277],\n",
       "       ...,\n",
       "       [0.93617021, 0.06382979],\n",
       "       [0.89361702, 0.10638298],\n",
       "       [0.95744681, 0.04255319]])"
      ]
     },
     "execution_count": 21,
     "metadata": {},
     "output_type": "execute_result"
    }
   ],
   "source": [
    "# predicted probabilities knn random search on originally unscaled X_test\n",
    "\n",
    "x_train_knnrs_probs = knn_rs_cos.predict_proba(X_train_knn)\n",
    "x_train_knnrs_probs \n",
    "\n",
    "\n"
   ]
  },
  {
   "cell_type": "code",
   "execution_count": 23,
   "metadata": {},
   "outputs": [],
   "source": [
    "# predictions\n",
    "\n",
    "y_pred_knnrs_train = knn_rs_cos.predict(X_train_knn)\n",
    "y_pred_knnrs_test = knn_rs_cos.predict(X_test_knn)\n",
    "\n",
    "\n"
   ]
  },
  {
   "cell_type": "code",
   "execution_count": 29,
   "metadata": {},
   "outputs": [],
   "source": [
    "\n",
    "# cleaned data used in modelling notebook\n",
    "\n",
    "df_processed = pd.read_csv('data/df_processed_dmy.csv')\n",
    "\n",
    "\n",
    "## Defining baseline model that predicts no one commits fraud\n",
    "def baseline_model(df):\n",
    "    y_pred = [0 for x in df.index]\n",
    "    return y_pred\n",
    "\n",
    "# Compute predictions with baseline model  1 for test set\n",
    "\n",
    "y_pred_baseline_1 = baseline_model(X_test)\n",
    "\n",
    "\n",
    "# Defining baseline model that predicts no one commits fraud for \n",
    "#  index change with respect to consuption per month <= 15% is fraud\n",
    "\n",
    "\n",
    "quantile_idx = df_processed[['index_change_month']].quantile(q=0.15)[0]\n",
    "quantile_idx\n",
    "\n",
    "def baseline_model_idx(df, quantile_idx):\n",
    "    y_pred = [1 if x <= quantile_idx else 0 for x in df['index_change_month']]\n",
    "    return y_pred\n",
    "\n",
    "# Compute predictions with baseline modelv2 for test set\n",
    "y_pred_baseline_2 = baseline_model_idx(X_test, quantile_idx)\n",
    "\n",
    "\n"
   ]
  },
  {
   "cell_type": "code",
   "execution_count": 30,
   "metadata": {},
   "outputs": [
    {
     "name": "stdout",
     "output_type": "stream",
     "text": [
      "Train ROC AUC Score: 0.5\n",
      "Test ROC AUC  Score: 0.5\n",
      "Baseline 1 ROC AUC Score: 0.5\n",
      "Baseline 2 ROC AUC Score: 0.49537146567264756\n"
     ]
    }
   ],
   "source": [
    "\n",
    "# our metrics : evaluation and results\n",
    "# - Train\n",
    "# - Test\n",
    "# - Baseline 1\n",
    "# - Baseline 2\n",
    "\n",
    "print(f'Train ROC AUC Score: {roc_auc_score(y_train_knn, y_pred_knnrs_train)}')\n",
    "print(f'Test ROC AUC  Score: {roc_auc_score(y_test_knn, y_pred_knnrs_test)}')\n",
    "print(f'Baseline 1 ROC AUC Score: {roc_auc_score(y_test,  y_pred_baseline_1)}')\n",
    "print(f'Baseline 2 ROC AUC Score: {roc_auc_score(y_test, y_pred_baseline_2)}')\n",
    "\n",
    "\n",
    "\n"
   ]
  },
  {
   "cell_type": "code",
   "execution_count": 37,
   "metadata": {},
   "outputs": [
    {
     "name": "stdout",
     "output_type": "stream",
     "text": [
      "Model Metrics and Normalized Confusion Matrix\n",
      "_____________________\n",
      "_____________________\n",
      "Accuracy: 0.9212\n",
      "_____________________\n",
      "F1-score: 0.0\n",
      "_____________________\n",
      "Fbeta_score with beta=1.5: 0.0\n",
      "_____________________\n",
      "Fbeta_score with beta=2: 0.0\n",
      "_____________________\n",
      "Fbeta_score with beta=3: 0.0\n",
      "_____________________\n",
      "Recall 0.0\n",
      "_____________________\n",
      "Specificity 1.0\n",
      "Train metrics:  \n",
      "  None\n"
     ]
    },
    {
     "data": {
      "image/png": "[encoded data removed]",
      "text/plain": [
       "<Figure size 640x480 with 2 Axes>"
      ]
     },
     "metadata": {},
     "output_type": "display_data"
    }
   ],
   "source": [
    "\n",
    "# our metrics : evaluation and results\n",
    "# - Train\n",
    "\n",
    "print(f'Train metrics:  \\n  {our_metrics(y_train_knn, y_pred_knnrs_train)}')\n",
    "\n",
    "\n"
   ]
  },
  {
   "cell_type": "code",
   "execution_count": 38,
   "metadata": {},
   "outputs": [
    {
     "name": "stdout",
     "output_type": "stream",
     "text": [
      "Model Metrics and Normalized Confusion Matrix\n",
      "_____________________\n",
      "_____________________\n",
      "Accuracy: 0.9211\n",
      "_____________________\n",
      "F1-score: 0.0\n",
      "_____________________\n",
      "Fbeta_score with beta=1.5: 0.0\n",
      "_____________________\n",
      "Fbeta_score with beta=2: 0.0\n",
      "_____________________\n",
      "Fbeta_score with beta=3: 0.0\n",
      "_____________________\n",
      "Recall 0.0\n",
      "_____________________\n",
      "Specificity 1.0\n",
      "Test metrics:  \n",
      "  None\n"
     ]
    },
    {
     "data": {
      "image/png": "[encoded data removed]",
      "text/plain": [
       "<Figure size 640x480 with 2 Axes>"
      ]
     },
     "metadata": {},
     "output_type": "display_data"
    }
   ],
   "source": [
    "\n",
    "# - Test\n",
    "\n",
    "print(f'Test metrics:  \\n  {our_metrics(y_test_knn, y_pred_knnrs_test)}')\n",
    "\n"
   ]
  },
  {
   "cell_type": "code",
   "execution_count": 39,
   "metadata": {},
   "outputs": [
    {
     "name": "stdout",
     "output_type": "stream",
     "text": [
      "Model Metrics and Normalized Confusion Matrix\n",
      "_____________________\n",
      "_____________________\n",
      "Accuracy: 0.9211\n",
      "_____________________\n",
      "F1-score: 0.0\n",
      "_____________________\n",
      "Fbeta_score with beta=1.5: 0.0\n",
      "_____________________\n",
      "Fbeta_score with beta=2: 0.0\n",
      "_____________________\n",
      "Fbeta_score with beta=3: 0.0\n",
      "_____________________\n",
      "Recall 0.0\n",
      "_____________________\n",
      "Specificity 1.0\n",
      "Baseline 1 Metrics:  \n",
      " None\n"
     ]
    },
    {
     "data": {
      "image/png": "[encoded data removed]",
      "text/plain": [
       "<Figure size 640x480 with 2 Axes>"
      ]
     },
     "metadata": {},
     "output_type": "display_data"
    }
   ],
   "source": [
    "\n",
    "# - Baseline 1\n",
    "print(f'Baseline 1 Metrics:  \\n {our_metrics(y_test, y_pred_baseline_1)}')\n",
    "\n",
    "\n"
   ]
  },
  {
   "cell_type": "code",
   "execution_count": 40,
   "metadata": {},
   "outputs": [
    {
     "name": "stdout",
     "output_type": "stream",
     "text": [
      "Model Metrics and Normalized Confusion Matrix\n",
      "_____________________\n",
      "_____________________\n",
      "Accuracy: 0.7922\n",
      "_____________________\n",
      "F1-score: 0.0979\n",
      "_____________________\n",
      "Fbeta_score with beta=1.5: 0.1114\n",
      "_____________________\n",
      "Fbeta_score with beta=2: 0.1207\n",
      "_____________________\n",
      "Fbeta_score with beta=3: 0.1309\n",
      "_____________________\n",
      "Recall 0.1429\n",
      "_____________________\n",
      "Specificity 0.8478\n",
      "Baseline 2 Metrics: \n",
      " None\n"
     ]
    },
    {
     "data": {
      "image/png": "[encoded data removed]",
      "text/plain": [
       "<Figure size 640x480 with 2 Axes>"
      ]
     },
     "metadata": {},
     "output_type": "display_data"
    }
   ],
   "source": [
    "\n",
    "# - Baseline 2\n",
    "\n",
    "print(f'Baseline 2 Metrics: \\n {our_metrics(y_test, y_pred_baseline_2)}')\n",
    "\n",
    "\n",
    "\n",
    "\n"
   ]
  },
  {
   "cell_type": "markdown",
   "metadata": {},
   "source": [
    "# Error Analysis\n",
    "\n",
    "\n"
   ]
  },
  {
   "cell_type": "code",
   "execution_count": 62,
   "metadata": {},
   "outputs": [
    {
     "ename": "ValueError",
     "evalue": "The feature names should match those that were passed during fit.\nFeature names unseen at fit time:\n- target\nFeature names seen at fit time, yet now missing:\n- 0\n- 1\n- 10\n- 11\n- 12\n- ...\n",
     "output_type": "error",
     "traceback": [
      "\u001b[0;31m---------------------------------------------------------------------------\u001b[0m",
      "\u001b[0;31mValueError\u001b[0m                                Traceback (most recent call last)",
      "Cell \u001b[0;32mIn[62], line 3\u001b[0m\n\u001b[1;32m      1\u001b[0m \u001b[39m# predict probabilities on labels as well to make them comparable \u001b[39;00m\n\u001b[0;32m----> 3\u001b[0m y_train_pred_probs \u001b[39m=\u001b[39m knn_rs_cos\u001b[39m.\u001b[39;49mpredict_proba(y_train_knn)[:, \u001b[39m1\u001b[39m]\n\u001b[1;32m      4\u001b[0m y_test_pred_probs \u001b[39m=\u001b[39m knn_rs_cos\u001b[39m.\u001b[39mpredict_proba(y_test_knn)[:, \u001b[39m1\u001b[39m]\n",
      "File \u001b[0;32m~/Documents/data_practitioner_repos/fraud_detection_electricity_company/.venv/lib/python3.11/site-packages/sklearn/neighbors/_classification.py:283\u001b[0m, in \u001b[0;36mKNeighborsClassifier.predict_proba\u001b[0;34m(self, X)\u001b[0m\n\u001b[1;32m    265\u001b[0m \u001b[39m\u001b[39m\u001b[39m\"\"\"Return probability estimates for the test data X.\u001b[39;00m\n\u001b[1;32m    266\u001b[0m \n\u001b[1;32m    267\u001b[0m \u001b[39mParameters\u001b[39;00m\n\u001b[0;32m   (...)\u001b[0m\n\u001b[1;32m    278\u001b[0m \u001b[39m    by lexicographic order.\u001b[39;00m\n\u001b[1;32m    279\u001b[0m \u001b[39m\"\"\"\u001b[39;00m\n\u001b[1;32m    280\u001b[0m \u001b[39mif\u001b[39;00m \u001b[39mself\u001b[39m\u001b[39m.\u001b[39mweights \u001b[39m==\u001b[39m \u001b[39m\"\u001b[39m\u001b[39muniform\u001b[39m\u001b[39m\"\u001b[39m:\n\u001b[1;32m    281\u001b[0m     \u001b[39m# In that case, we do not need the distances to perform\u001b[39;00m\n\u001b[1;32m    282\u001b[0m     \u001b[39m# the weighting so we do not compute them.\u001b[39;00m\n\u001b[0;32m--> 283\u001b[0m     neigh_ind \u001b[39m=\u001b[39m \u001b[39mself\u001b[39;49m\u001b[39m.\u001b[39;49mkneighbors(X, return_distance\u001b[39m=\u001b[39;49m\u001b[39mFalse\u001b[39;49;00m)\n\u001b[1;32m    284\u001b[0m     neigh_dist \u001b[39m=\u001b[39m \u001b[39mNone\u001b[39;00m\n\u001b[1;32m    285\u001b[0m \u001b[39melse\u001b[39;00m:\n",
      "File \u001b[0;32m~/Documents/data_practitioner_repos/fraud_detection_electricity_company/.venv/lib/python3.11/site-packages/sklearn/neighbors/_base.py:806\u001b[0m, in \u001b[0;36mKNeighborsMixin.kneighbors\u001b[0;34m(self, X, n_neighbors, return_distance)\u001b[0m\n\u001b[1;32m    804\u001b[0m         X \u001b[39m=\u001b[39m _check_precomputed(X)\n\u001b[1;32m    805\u001b[0m     \u001b[39melse\u001b[39;00m:\n\u001b[0;32m--> 806\u001b[0m         X \u001b[39m=\u001b[39m \u001b[39mself\u001b[39;49m\u001b[39m.\u001b[39;49m_validate_data(X, accept_sparse\u001b[39m=\u001b[39;49m\u001b[39m\"\u001b[39;49m\u001b[39mcsr\u001b[39;49m\u001b[39m\"\u001b[39;49m, reset\u001b[39m=\u001b[39;49m\u001b[39mFalse\u001b[39;49;00m, order\u001b[39m=\u001b[39;49m\u001b[39m\"\u001b[39;49m\u001b[39mC\u001b[39;49m\u001b[39m\"\u001b[39;49m)\n\u001b[1;32m    808\u001b[0m n_samples_fit \u001b[39m=\u001b[39m \u001b[39mself\u001b[39m\u001b[39m.\u001b[39mn_samples_fit_\n\u001b[1;32m    809\u001b[0m \u001b[39mif\u001b[39;00m n_neighbors \u001b[39m>\u001b[39m n_samples_fit:\n",
      "File \u001b[0;32m~/Documents/data_practitioner_repos/fraud_detection_electricity_company/.venv/lib/python3.11/site-packages/sklearn/base.py:548\u001b[0m, in \u001b[0;36mBaseEstimator._validate_data\u001b[0;34m(self, X, y, reset, validate_separately, **check_params)\u001b[0m\n\u001b[1;32m    483\u001b[0m \u001b[39mdef\u001b[39;00m \u001b[39m_validate_data\u001b[39m(\n\u001b[1;32m    484\u001b[0m     \u001b[39mself\u001b[39m,\n\u001b[1;32m    485\u001b[0m     X\u001b[39m=\u001b[39m\u001b[39m\"\u001b[39m\u001b[39mno_validation\u001b[39m\u001b[39m\"\u001b[39m,\n\u001b[0;32m   (...)\u001b[0m\n\u001b[1;32m    489\u001b[0m     \u001b[39m*\u001b[39m\u001b[39m*\u001b[39mcheck_params,\n\u001b[1;32m    490\u001b[0m ):\n\u001b[1;32m    491\u001b[0m \u001b[39m    \u001b[39m\u001b[39m\"\"\"Validate input data and set or check the `n_features_in_` attribute.\u001b[39;00m\n\u001b[1;32m    492\u001b[0m \n\u001b[1;32m    493\u001b[0m \u001b[39m    Parameters\u001b[39;00m\n\u001b[0;32m   (...)\u001b[0m\n\u001b[1;32m    546\u001b[0m \u001b[39m        validated.\u001b[39;00m\n\u001b[1;32m    547\u001b[0m \u001b[39m    \"\"\"\u001b[39;00m\n\u001b[0;32m--> 548\u001b[0m     \u001b[39mself\u001b[39;49m\u001b[39m.\u001b[39;49m_check_feature_names(X, reset\u001b[39m=\u001b[39;49mreset)\n\u001b[1;32m    550\u001b[0m     \u001b[39mif\u001b[39;00m y \u001b[39mis\u001b[39;00m \u001b[39mNone\u001b[39;00m \u001b[39mand\u001b[39;00m \u001b[39mself\u001b[39m\u001b[39m.\u001b[39m_get_tags()[\u001b[39m\"\u001b[39m\u001b[39mrequires_y\u001b[39m\u001b[39m\"\u001b[39m]:\n\u001b[1;32m    551\u001b[0m         \u001b[39mraise\u001b[39;00m \u001b[39mValueError\u001b[39;00m(\n\u001b[1;32m    552\u001b[0m             \u001b[39mf\u001b[39m\u001b[39m\"\u001b[39m\u001b[39mThis \u001b[39m\u001b[39m{\u001b[39;00m\u001b[39mself\u001b[39m\u001b[39m.\u001b[39m\u001b[39m__class__\u001b[39m\u001b[39m.\u001b[39m\u001b[39m__name__\u001b[39m\u001b[39m}\u001b[39;00m\u001b[39m estimator \u001b[39m\u001b[39m\"\u001b[39m\n\u001b[1;32m    553\u001b[0m             \u001b[39m\"\u001b[39m\u001b[39mrequires y to be passed, but the target y is None.\u001b[39m\u001b[39m\"\u001b[39m\n\u001b[1;32m    554\u001b[0m         )\n",
      "File \u001b[0;32m~/Documents/data_practitioner_repos/fraud_detection_electricity_company/.venv/lib/python3.11/site-packages/sklearn/base.py:481\u001b[0m, in \u001b[0;36mBaseEstimator._check_feature_names\u001b[0;34m(self, X, reset)\u001b[0m\n\u001b[1;32m    476\u001b[0m \u001b[39mif\u001b[39;00m \u001b[39mnot\u001b[39;00m missing_names \u001b[39mand\u001b[39;00m \u001b[39mnot\u001b[39;00m unexpected_names:\n\u001b[1;32m    477\u001b[0m     message \u001b[39m+\u001b[39m\u001b[39m=\u001b[39m (\n\u001b[1;32m    478\u001b[0m         \u001b[39m\"\u001b[39m\u001b[39mFeature names must be in the same order as they were in fit.\u001b[39m\u001b[39m\\n\u001b[39;00m\u001b[39m\"\u001b[39m\n\u001b[1;32m    479\u001b[0m     )\n\u001b[0;32m--> 481\u001b[0m \u001b[39mraise\u001b[39;00m \u001b[39mValueError\u001b[39;00m(message)\n",
      "\u001b[0;31mValueError\u001b[0m: The feature names should match those that were passed during fit.\nFeature names unseen at fit time:\n- target\nFeature names seen at fit time, yet now missing:\n- 0\n- 1\n- 10\n- 11\n- 12\n- ...\n"
     ]
    }
   ],
   "source": [
    "# predict probabilities on labels as well to make them comparable \n",
    "\n",
    "y_train_pred_probs = knn_rs_cos.predict_proba(y_train_knn)[:, 1]\n",
    "y_test_pred_probs = knn_rs_cos.predict_proba(y_test_knn)[:, 1]\n",
    "\n"
   ]
  },
  {
   "cell_type": "code",
   "execution_count": null,
   "metadata": {},
   "outputs": [],
   "source": []
  },
  {
   "cell_type": "code",
   "execution_count": null,
   "metadata": {},
   "outputs": [],
   "source": []
  },
  {
   "cell_type": "markdown",
   "metadata": {},
   "source": [
    "# PCA \n",
    "\n"
   ]
  },
  {
   "cell_type": "code",
   "execution_count": null,
   "metadata": {},
   "outputs": [],
   "source": [
    "\n",
    "print('____'*12)\n",
    "\n",
    "print(f\" X_test : {X_test.shape}\")\n",
    "\n",
    "print('____'*12)\n",
    "\n",
    "print(f\" y_train: {y_train.shape}\")\n",
    "print(f\" y_test : {y_test.shape}\")\n",
    "\n",
    "print('____'*12)\n",
    "\n",
    "print(f\" X_train_std : {X_train_std.shape}\")\n",
    "print(f\" X_test_std : {X_test_std.shape}\")\n",
    "\n",
    "print('____'*12)\n",
    "\n",
    "print(f\" y_train: {y_train_knn.shape}\")\n",
    "print(f\" y_test : {y_test_knn.shape}\")\n",
    "\n",
    "print('____'*12)\n",
    "\n",
    "print(f\" X_train_std : {X_train_knn.shape}\")\n",
    "print(f\" X_test_std : {X_test_knn.shape}\")\n",
    "\n"
   ]
  },
  {
   "cell_type": "code",
   "execution_count": null,
   "metadata": {},
   "outputs": [
    {
     "data": {
      "text/plain": [
       "array([[-4.51437429e+02, -4.94041323e+01,  7.31304055e+00, ...,\n",
       "        -1.16736683e-12,  3.09185562e-12, -5.38327126e-12],\n",
       "       [-4.33179996e+02,  2.74821652e+01, -5.13209279e+00, ...,\n",
       "        -1.68354545e-13,  7.06156711e-14,  3.20046960e-13],\n",
       "       [-4.23437857e+02, -5.09227302e+01, -5.95155427e+00, ...,\n",
       "         2.48635754e-12,  2.44250077e-12, -2.46986022e-11],\n",
       "       ...,\n",
       "       [-4.46309406e+02, -1.70262820e+01, -3.11366401e+00, ...,\n",
       "         1.28321108e-13,  5.04281891e-14,  1.06400385e-13],\n",
       "       [-4.91768664e+02, -2.80826350e+01,  5.69717548e+00, ...,\n",
       "        -6.13856871e-14,  9.14026792e-16,  3.63711631e-13],\n",
       "       [-3.72934406e+02, -1.92573133e+01,  7.70649257e+00, ...,\n",
       "        -7.35484972e-14,  1.48170097e-13,  2.40193043e-12]])"
      ]
     },
     "metadata": {},
     "output_type": "display_data"
    }
   ],
   "source": [
    "# PCA\n",
    "\n",
    "from sklearn.decomposition import PCA\n",
    "\n",
    "#pca=PCA(0.95)\n",
    "pca=PCA()\n",
    "\n",
    "x_train_pca = pca.fit_transform(reduced_x_train)\n",
    "x_train_pca\n",
    "\n"
   ]
  },
  {
   "cell_type": "code",
   "execution_count": null,
   "metadata": {},
   "outputs": [
    {
     "name": "stdout",
     "output_type": "stream",
     "text": [
      "x train pca size : (1850, 47)\n",
      "no of components : 47\n"
     ]
    }
   ],
   "source": [
    "# shape\n",
    "\n",
    "x_size = x_train_pca.shape\n",
    "\n",
    "# get number of components\n",
    "\n",
    "ncomp = pca.n_components_\n",
    "\n",
    "print(f\"x train pca size : {x_size}\")\n",
    "print(f\"no of components : {ncomp}\")\n",
    "\n",
    "\n"
   ]
  },
  {
   "cell_type": "code",
   "execution_count": null,
   "metadata": {},
   "outputs": [
    {
     "data": {
      "text/plain": [
       "array([[-3.80932234e+02,  3.39151032e+00,  3.22494484e+00, ...,\n",
       "         7.76199223e-18,  1.26969099e-18,  4.93806846e-17],\n",
       "       [-3.84306160e+02,  1.26541260e+01,  1.03150118e+01, ...,\n",
       "         6.55675468e-19,  6.14876422e-19,  1.60402987e-16],\n",
       "       [-3.63933185e+02, -7.33218167e+00,  9.05738002e+00, ...,\n",
       "        -4.81498117e-17, -1.32142056e-17,  2.15914138e-16],\n",
       "       ...,\n",
       "       [-3.94430374e+02,  2.31723516e+01, -2.58900406e+00, ...,\n",
       "         9.12099608e-18,  2.32499315e-18, -1.06084234e-15],\n",
       "       [-3.63937523e+02, -5.05178069e+01,  8.19235230e+00, ...,\n",
       "         4.17797572e-17,  1.78029922e-17, -1.81024288e-15],\n",
       "       [-6.31184784e+02, -2.35438304e+01,  1.02444145e+01, ...,\n",
       "         7.86810248e-18, -1.34111112e-19,  4.93806846e-17]])"
      ]
     },
     "metadata": {},
     "output_type": "display_data"
    }
   ],
   "source": [
    "x_test_pca = pca.transform(reduced_x_test)\n",
    "x_test_pca"
   ]
  },
  {
   "cell_type": "code",
   "execution_count": null,
   "metadata": {},
   "outputs": [
    {
     "name": "stdout",
     "output_type": "stream",
     "text": [
      "x test pca size : (1850, 47)\n",
      "no of components : 47\n"
     ]
    }
   ],
   "source": [
    "# shape\n",
    "\n",
    "xt_size = x_test_pca.shape\n",
    "\n",
    "# get number of components\n",
    "\n",
    "tncomp = pca.n_components_\n",
    "\n",
    "print(f\"x test pca size : {xt_size}\")\n",
    "print(f\"no of components : {tncomp}\")\n",
    "\n",
    "\n",
    "\n"
   ]
  },
  {
   "cell_type": "code",
   "execution_count": null,
   "metadata": {},
   "outputs": [
    {
     "data": {
      "text/plain": [
       "0.9162162162162162"
      ]
     },
     "metadata": {},
     "output_type": "display_data"
    }
   ],
   "source": [
    "##\n",
    "# draft fit on X_train\n",
    "\n",
    "\n",
    "knn_pca = KNeighborsClassifier(n_neighbors=48)\n",
    "knn_pca.fit(x_train_pca, reduced_y_train)\n",
    "knn_pca.score(x_test_pca, reduced_y_test)\n",
    "\n",
    "\n",
    "\n"
   ]
  },
  {
   "cell_type": "code",
   "execution_count": null,
   "metadata": {},
   "outputs": [
    {
     "data": {
      "text/plain": [
       "{'algorithm': 'auto',\n",
       " 'leaf_size': 30,\n",
       " 'metric': 'minkowski',\n",
       " 'metric_params': None,\n",
       " 'n_jobs': None,\n",
       " 'n_neighbors': 48,\n",
       " 'p': 2,\n",
       " 'weights': 'uniform'}"
      ]
     },
     "metadata": {},
     "output_type": "display_data"
    }
   ],
   "source": [
    "# params\n",
    "\n",
    "#knn_pca.get_params().keys()\n",
    "\n",
    "knn_pca.get_params()\n"
   ]
  },
  {
   "cell_type": "code",
   "execution_count": null,
   "metadata": {},
   "outputs": [
    {
     "data": {
      "text/plain": [
       "array([[1.        , 0.        ],\n",
       "       [0.95833333, 0.04166667],\n",
       "       [0.91666667, 0.08333333],\n",
       "       ...,\n",
       "       [0.85416667, 0.14583333],\n",
       "       [0.97916667, 0.02083333],\n",
       "       [0.9375    , 0.0625    ]])"
      ]
     },
     "metadata": {},
     "output_type": "display_data"
    }
   ],
   "source": [
    "# predicted probabilities pca\n",
    "\n",
    "x_test_pca_probs = knn_pca.predict_proba(x_test_pca)\n",
    "x_test_pca_probs\n",
    "\n",
    "\n"
   ]
  },
  {
   "cell_type": "code",
   "execution_count": null,
   "metadata": {},
   "outputs": [
    {
     "data": {
      "text/plain": [
       "array([[0.89583333, 0.10416667],\n",
       "       [0.89583333, 0.10416667],\n",
       "       [0.9375    , 0.0625    ],\n",
       "       ...,\n",
       "       [0.8125    , 0.1875    ],\n",
       "       [0.89583333, 0.10416667],\n",
       "       [0.875     , 0.125     ]])"
      ]
     },
     "metadata": {},
     "output_type": "display_data"
    }
   ],
   "source": [
    "# predicted probabilities Xtest with no of observations = \n",
    "\n",
    "x_test_probs = knn_pca.predict_proba(X_test)\n",
    "x_test_probs\n"
   ]
  },
  {
   "cell_type": "code",
   "execution_count": null,
   "metadata": {},
   "outputs": [
    {
     "data": {
      "text/plain": [
       "array([0, 0, 0, ..., 0, 0, 0])"
      ]
     },
     "metadata": {},
     "output_type": "display_data"
    }
   ],
   "source": [
    "# threshold on X_test\n",
    "Threshold = 0.5\n",
    "\n",
    "preds_probs_pca = np.where(x_test_probs[:,1] > Threshold, 1, 0)\n",
    "preds_probs_pca\n"
   ]
  },
  {
   "cell_type": "code",
   "execution_count": null,
   "metadata": {},
   "outputs": [
    {
     "data": {
      "text/plain": [
       "array([0, 0, 0, ..., 0, 0, 0])"
      ]
     },
     "metadata": {},
     "output_type": "display_data"
    }
   ],
   "source": [
    "# prediction\n",
    "\n",
    "pred_pca = knn_pca.predict(x_test_pca)\n",
    "\n",
    "\n",
    "# evaluation metrics : Fbeta_score with bete = [1.5, 2, 3]\n",
    "# confusion matrix \n",
    "\n"
   ]
  },
  {
   "cell_type": "code",
   "execution_count": null,
   "metadata": {},
   "outputs": [],
   "source": []
  },
  {
   "cell_type": "code",
   "execution_count": null,
   "metadata": {},
   "outputs": [],
   "source": [
    "best_nn = 48\n",
    "best_metric = 'mahaladonis'\n",
    "scorers = \n",
    "\n",
    "knn_clf = KNeighborsClassifier(n_neighbors=best_nn)\n",
    "\n",
    "legend = {}\n",
    "\n",
    "xx, yy = np.meshgrid(np.linspace(-35, 35, 500), np.linspace(-35, 35, 500))\n",
    "plt.figure(1, figsize=(10,10))\n",
    "\n",
    "\n",
    "knn_clf.fit(X_train_knn.values[:,:2])\n",
    "\n",
    "Z = knn_clf.decision_function(np.c_[xx.ravel(), yy.ravel()])\n",
    "Z = Z.reshape(xx.shape)\n",
    "\n",
    "legend['K-Nearest Neighbors'] = plt.contour(\n",
    "    xx, yy, Z, levels=[0], linewidths=2, colors=['m'])\n",
    "\n",
    "legend_values_list = list(legend.values())\n",
    "legend_keys_list = list(legend.keys())\n",
    "\n",
    "plt.figure(1, figsize=(10,10))# two clusters\n",
    "plt.title(\"Outlier detection on first two columns of Fraud data\")\n",
    "\n",
    "plt.scatter(X_train_knn.values[:, 0], X_train_knn.values[:, 1], color='black')\n",
    "\n",
    "bbox_args = dict(boxstyle=\"round\", fc=\"0.8\")\n",
    "arrow_args = dict(arrowstyle=\"->\")\n",
    "\n",
    "plt.xlim((xx.min(), xx.max()))\n",
    "plt.ylim((yy.min(), yy.max()))\n",
    "\n",
    "plt.legend(legend_values_list[0].collections, legend_keys_list,\n",
    "           loc=\"upper center\");\n",
    "plt.ylabel(\"feature1\");\n",
    "plt.xlabel(\"feature0\");"
   ]
  },
  {
   "cell_type": "code",
   "execution_count": 12,
   "metadata": {},
   "outputs": [
    {
     "data": {
      "text/plain": [
       "make_scorer(fbeta_score, beta=2)"
      ]
     },
     "execution_count": 12,
     "metadata": {},
     "output_type": "execute_result"
    }
   ],
   "source": [
    "# our metric : fbeta_score\n",
    "\n",
    "fb_score = make_scorer(fbeta_score, beta=2)\n",
    "\n",
    "fb_score\n"
   ]
  },
  {
   "cell_type": "code",
   "execution_count": null,
   "metadata": {},
   "outputs": [],
   "source": []
  },
  {
   "cell_type": "code",
   "execution_count": null,
   "metadata": {},
   "outputs": [],
   "source": []
  },
  {
   "cell_type": "code",
   "execution_count": null,
   "metadata": {},
   "outputs": [],
   "source": []
  },
  {
   "cell_type": "code",
   "execution_count": 11,
   "metadata": {},
   "outputs": [
    {
     "ename": "AttributeError",
     "evalue": "'KNeighborsClassifier' object has no attribute 'best_params_'",
     "output_type": "error",
     "traceback": [
      "\u001b[0;31m---------------------------------------------------------------------------\u001b[0m",
      "\u001b[0;31mAttributeError\u001b[0m                            Traceback (most recent call last)",
      "Cell \u001b[0;32mIn[11], line 14\u001b[0m\n\u001b[1;32m     11\u001b[0m     knn_0 \u001b[39m=\u001b[39m KNeighborsClassifier(n_neighbors\u001b[39m=\u001b[39mi, \n\u001b[1;32m     12\u001b[0m                                 metric\u001b[39m=\u001b[39m \u001b[39m'\u001b[39m\u001b[39meuclidean\u001b[39m\u001b[39m'\u001b[39m) \u001b[39m#'mahalanobis', metric_params=[{'V': np.cov(reduced_x_train)}])\u001b[39;00m\n\u001b[1;32m     13\u001b[0m     knn_0\u001b[39m.\u001b[39mfit(reduced_x_train, reduced_y_train)\n\u001b[0;32m---> 14\u001b[0m     wcss\u001b[39m.\u001b[39mappend(knn_0\u001b[39m.\u001b[39;49mbest_params_\u001b[39m.\u001b[39mget(\u001b[39m'\u001b[39m\u001b[39mn_neighbors\u001b[39m\u001b[39m'\u001b[39m))\n\u001b[1;32m     17\u001b[0m \u001b[39m# fig=plt.figure(figsize=(10,6))  \u001b[39;00m\n\u001b[1;32m     18\u001b[0m \u001b[39m# fig.patch.set_facecolor('#f6f5f5')\u001b[39;00m\n\u001b[1;32m     19\u001b[0m \n\u001b[0;32m   (...)\u001b[0m\n\u001b[1;32m     24\u001b[0m \u001b[39m# fig.text(0.5,0.4,\"The best k-value is here\")\u001b[39;00m\n\u001b[1;32m     25\u001b[0m \u001b[39m# plt.show()\u001b[39;00m\n",
      "\u001b[0;31mAttributeError\u001b[0m: 'KNeighborsClassifier' object has no attribute 'best_params_'"
     ]
    }
   ],
   "source": [
    "# elbow method to determine best K value\n",
    "# 'n_neighbors': np.arange(50,len(X_train//2) + 1), \n",
    "# 'metric': 'mahalanobis'\n",
    "# 'metric_params': [{'V': np.cov(X_train)]\n",
    "\n",
    "k_range = range(5, 50)\n",
    "#hyperparameters = {\n",
    "#                \"n_neighbors\" : \n",
    "#    }\n",
    "\n",
    "score_kis = []\n",
    "\n",
    "for i in k_range:\n",
    "    knn_0 = KNeighborsClassifier(n_neighbors=i, \n",
    "                                metric= 'euclidean') #'mahalanobis', metric_params=[{'V': np.cov(reduced_x_train)}])\n",
    "    \n",
    "    \n",
    "    knn_0.fit(reduced_x_train, reduced_y_train)\n",
    "    score_kis.append(knn_0.best_params_.get('n_neighbors'))\n",
    "\n",
    "\n",
    "# fig=plt.figure(figsize=(10,6))  \n",
    "# fig.patch.set_facecolor('#f6f5f5')\n",
    "\n",
    "# plt.plot(k_range, wcss)\n",
    "# plt.title('The Elbow Method', fontsize = 20)\n",
    "# plt.xlabel('No. of K- neighbours')\n",
    "# plt.ylabel('wcss')\n",
    "# fig.text(0.5,0.4,\"The best k-value is here\")\n",
    "# plt.show()\n",
    "\n",
    "\n"
   ]
  },
  {
   "cell_type": "markdown",
   "metadata": {},
   "source": [
    "---\n",
    "\n",
    "##### K-NN on regular split : X_train and y_train\n",
    "\n",
    "* initialize and fit model on original split data\n",
    "* X_train, y_train\n",
    "\n",
    "* parameters used :\n",
    "<br> <br/>\n",
    "\n",
    "```python\n",
    "\n",
    "cv_params = [\n",
    "    {'n_neighbors': np.arange(1, 51), 'metric': ['euclidean', 'minkowski']},\n",
    "    {'n_neighbors': np.arange(1, 51), 'metric': ['mahalanobis', 'seuclidean'],\n",
    "     'metric_params': [{'V': np.cov(X_train)}]}\n",
    "]\n",
    "\n",
    "```\n"
   ]
  },
  {
   "cell_type": "code",
   "execution_count": null,
   "metadata": {},
   "outputs": [],
   "source": [
    "\n",
    "# initialize and fit model \n",
    "# - X_train, y_train data\n",
    "\n",
    "\n",
    "knn_orig = KNeighborsClassifier(n_neighbors=5, metric='euclidean')\n",
    "knn_orig.fit(X_train, y_train)\n",
    "\n",
    "\n"
   ]
  },
  {
   "cell_type": "code",
   "execution_count": null,
   "metadata": {},
   "outputs": [],
   "source": [
    "# initialize, cross validation and fit model \n",
    "# - X_train, y_train data\n",
    "\n",
    "\n",
    "grid_params_1 = [\n",
    "    {'n_neighbors': np.arange(1, 51), 'metric': ['euclidean', 'minkowski']},\n",
    "    {'n_neighbors': np.arange(1, 51), 'metric': ['mahalanobis', 'seuclidean'],\n",
    "     'metric_params': [{'V': np.cov(X_train)}]}\n",
    "]\n",
    "\n",
    "knn_orig = knn_cv_fit(X_train, y_train, cv_params = {'n_neighbors' : 5, 'metric':'euclidean'}, cv_type = 'random')\n",
    "\n",
    "\n",
    "\n",
    "\n"
   ]
  },
  {
   "cell_type": "code",
   "execution_count": null,
   "metadata": {},
   "outputs": [],
   "source": [
    "\n",
    "# predict on test\n",
    "\n",
    "y_pred_orig = knn_orig.predict(X_test)\n",
    "\n",
    "# Make probability predictions\n",
    "train_probs_knn_orig = knn_orig.predict_proba(X_train)[:, 1]\n",
    "test_probs_knn_orig = knn_orig.predict_proba(X_test_minmax)[:, 1]\n",
    "\n",
    "train_preds_knn_orig = knn_orig.predict(X_train)\n",
    "test_preds_knn_orig = knn_orig.predict(X_test)\n",
    "\n",
    "\n"
   ]
  },
  {
   "cell_type": "code",
   "execution_count": null,
   "metadata": {},
   "outputs": [],
   "source": [
    "# evaluation and results\n",
    "\n",
    "\n",
    "print(f'Train ROC AUC Score: {roc_auc_score(y_train, train_probs_knn_orig)}')\n",
    "print(f'Test ROC AUC  Score: {roc_auc_score(y_test, test_probs_knn_orig)}')\n",
    "print(f'Baseline ROC AUC: {roc_auc_score(y_test, [1 for _ in range(len(y_test))])}')\n",
    "\n",
    "print(eval_metrics(y_test, y_pred_orig))\n",
    "print(evaluate_model(test_preds_knn_orig, test_probs_knn_orig, train_preds_knn_orig,\n",
    "                    train_probs_knn_orig))\n",
    "\n",
    "\n",
    "\n"
   ]
  },
  {
   "cell_type": "code",
   "execution_count": null,
   "metadata": {},
   "outputs": [],
   "source": [
    "\n",
    "\n"
   ]
  },
  {
   "cell_type": "markdown",
   "metadata": {},
   "source": [
    "##### K-NN on standardized data : test_size = 0.7, large\n",
    "\n",
    "* initialize and fit model on original split data\n",
    "* X_train_std_large, y_train\n",
    "* cross validation : random search then grid search, cv = 5\n",
    "\n",
    "* parameters used :\n",
    "<br> <br/>\n",
    "\n",
    "```python\n",
    "params_1 = {\n",
    "            'n_neighbors' : [5, 100, 500, len(x_train//16),\n",
    "                len(x_train//8), len(x_train//4),  len(x_train//2)],\n",
    "            'metric': ['euclidean', 'mahalanobis'] \n",
    "               }\n",
    "```\n",
    "\n"
   ]
  },
  {
   "cell_type": "code",
   "execution_count": null,
   "metadata": {},
   "outputs": [],
   "source": [
    "\n",
    "# on X_train_std_large, X_test_std\n",
    "\n",
    "# initialize and fit/train model on data\n",
    "\n",
    "knn_std_large = KNeighborsClassifier(n_neighbors=5, metric='euclidean')\n",
    "knn_std_large.fit(X_train_std_large, y_train)\n",
    "\n",
    "# predict on test\n",
    "\n",
    "y_pred_std = knn_std_large.predict(X_test_std)\n",
    "\n",
    "# Make probability predictions\n",
    "train_probs_knn_stdl = knn_std_large.predict_proba(X_train_std_large)[:, 1]\n",
    "test_probs_knn_stdl = knn_std_large.predict_proba(X_test_std)[:, 1]\n",
    "\n",
    "train_preds_knn_stdl = knn_std.predict(X_train_std_large)\n",
    "test_preds_knn_stdl = knn_std.predict(X_test_std)\n",
    "\n",
    "\n",
    "# evaluation and results\n",
    "\n",
    "print(f'Train ROC AUC Score: {roc_auc_score(y_train_large, train_probs_knn_stdl)}')\n",
    "print(f'Test ROC AUC  Score: {roc_auc_score(y_test, test_probs_knn_stdl)}')\n",
    "print(f'Baseline ROC AUC: {roc_auc_score(y_test, [1 for _ in range(len(y_test))])}')\n",
    "\n",
    "print(eval_metrics(y_test, y_pred_std))\n",
    "print(evaluate_model(test_preds_knn_stdl, test_probs_knn_stdl, \n",
    "                    train_preds_knn_stdl, train_probs_knn_stdl))\n",
    "\n",
    "\n"
   ]
  },
  {
   "cell_type": "code",
   "execution_count": null,
   "metadata": {},
   "outputs": [],
   "source": []
  },
  {
   "cell_type": "markdown",
   "metadata": {},
   "source": [
    "\n"
   ]
  },
  {
   "cell_type": "code",
   "execution_count": null,
   "metadata": {},
   "outputs": [],
   "source": [
    "\n",
    "\n",
    "\n"
   ]
  },
  {
   "cell_type": "code",
   "execution_count": null,
   "metadata": {},
   "outputs": [],
   "source": []
  },
  {
   "cell_type": "code",
   "execution_count": null,
   "metadata": {},
   "outputs": [],
   "source": []
  },
  {
   "cell_type": "markdown",
   "metadata": {},
   "source": [
    "# Limitations of KNN\n",
    "\n",
    "\n",
    "\n"
   ]
  },
  {
   "cell_type": "code",
   "execution_count": null,
   "metadata": {},
   "outputs": [],
   "source": []
  }
 ],
 "metadata": {
  "kernelspec": {
   "display_name": ".venv",
   "language": "python",
   "name": "python3"
  },
  "language_info": {
   "codemirror_mode": {
    "name": "ipython",
    "version": 3
   },
   "file_extension": ".py",
   "mimetype": "text/x-python",
   "name": "python",
   "nbconvert_exporter": "python",
   "pygments_lexer": "ipython3",
   "version": "3.11.3"
  },
  "orig_nbformat": 4
 },
 "nbformat": 4,
 "nbformat_minor": 2
}
