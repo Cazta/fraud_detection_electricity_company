{
 "cells": [
  {
   "cell_type": "markdown",
   "metadata": {},
   "source": [
    "## ML-Model: Random Forest"
   ]
  },
  {
   "cell_type": "markdown",
   "metadata": {},
   "source": [
    "# import libraries"
   ]
  },
  {
   "cell_type": "code",
   "execution_count": 1,
   "metadata": {},
   "outputs": [],
   "source": [
    "# import necessary libraries\n",
    "\n",
    "import pandas as pd\n",
    "import numpy as np\n",
    "import seaborn as sns\n",
    "import matplotlib.pyplot as plt \n",
    "\n",
    "#sklearn\n",
    "\n",
    "from sklearn.model_selection import cross_val_score\n",
    "from sklearn.ensemble import RandomForestClassifier\n",
    "from sklearn.model_selection import GridSearchCV, RandomizedSearchCV\n",
    "from sklearn.metrics import f1_score, fbeta_score\n",
    "from sklearn.metrics import precision_score, recall_score, roc_auc_score, roc_curve, make_scorer, auc\n",
    "from sklearn.metrics import confusion_matrix, classification_report\n",
    "from sklearn.metrics import accuracy_score, balanced_accuracy_score\n",
    "\n",
    "# import custom functions\n",
    "\n",
    "from custom_functions import get_data_summary, our_metrics, eval_metrics, get_f15, get_f2, get_f3\n",
    "\n",
    "import warnings\n",
    "warnings.filterwarnings('ignore')\n",
    "RSEED = 42"
   ]
  },
  {
   "cell_type": "code",
   "execution_count": 2,
   "metadata": {},
   "outputs": [],
   "source": [
    "#codeline for non-tree models\n",
    "\n",
    "# X_train_minmax = pd.read_csv('data/X_train_minmax.csv', delimiter=',')\n",
    "# X_test_minmax = pd.read_csv('data/X_test_minmax.csv', delimiter=',')\n",
    "# X_train_std = pd.read_csv('data/X_train_std.csv', delimiter=',')\n",
    "# X_test_std = pd.read_csv('data/X_test_std.csv', delimiter=',')\n",
    "# y_train = pd.read_csv('data/y_train.csv', delimiter=',')\n",
    "# y_test = pd.read_csv('data/y_test.csv', delimiter=',')"
   ]
  },
  {
   "cell_type": "markdown",
   "metadata": {},
   "source": [
    "# Import train-train-split for trees"
   ]
  },
  {
   "cell_type": "code",
   "execution_count": 3,
   "metadata": {},
   "outputs": [],
   "source": [
    "# Import train-train-split for trees\n",
    "X_train_tree_small = pd.read_csv('data/X_train_tree_small.csv', delimiter=',')\n",
    "X_train_tree_large = pd.read_csv('data/X_train_tree_large.csv', delimiter=',')\n",
    "y_train_tree_small = pd.read_csv('data/y_train_tree_small.csv', delimiter=',')\n",
    "y_train_tree_large = pd.read_csv('data/y_train_tree_large.csv', delimiter=',')"
   ]
  },
  {
   "cell_type": "code",
   "execution_count": 4,
   "metadata": {},
   "outputs": [],
   "source": [
    "#reshape y into 1D-array\n",
    "\n",
    "y_train_tree_small = np.ravel(y_train_tree_small)\n",
    "y_train_tree_large = np.ravel(y_train_tree_large)"
   ]
  },
  {
   "cell_type": "markdown",
   "metadata": {},
   "source": [
    "# Import entire data set: test and train data, target"
   ]
  },
  {
   "cell_type": "code",
   "execution_count": 30,
   "metadata": {},
   "outputs": [],
   "source": [
    "X_train_tree = pd.read_csv('data/X_train_tree.csv', delimiter=',')\n",
    "X_test_tree = pd.read_csv('data/X_test_tree.csv', delimiter=',')\n",
    "y_train_tree = pd.read_csv('data/y_train_tree.csv', delimiter=',')\n",
    "y_test_tree = pd.read_csv('data/y_test_tree.csv', delimiter=',')"
   ]
  },
  {
   "cell_type": "code",
   "execution_count": 31,
   "metadata": {},
   "outputs": [],
   "source": [
    "#reshape y into 1D-array\n",
    "\n",
    "y_test_tree = np.ravel(y_test_tree)\n",
    "y_train_tree = np.ravel(y_train_tree)"
   ]
  },
  {
   "cell_type": "markdown",
   "metadata": {},
   "source": [
    "# Instantiating and training model with default hyperparams"
   ]
  },
  {
   "cell_type": "code",
   "execution_count": 7,
   "metadata": {},
   "outputs": [
    {
     "name": "stderr",
     "output_type": "stream",
     "text": [
      "[Parallel(n_jobs=-1)]: Using backend ThreadingBackend with 8 concurrent workers.\n",
      "[Parallel(n_jobs=-1)]: Done  34 tasks      | elapsed:   28.4s\n",
      "[Parallel(n_jobs=-1)]: Done 184 tasks      | elapsed:  2.4min\n",
      "[Parallel(n_jobs=-1)]: Done 434 tasks      | elapsed:  5.4min\n",
      "[Parallel(n_jobs=-1)]: Done 500 out of 500 | elapsed:  6.2min finished\n"
     ]
    },
    {
     "data": {
      "text/html": [
       "<style>#sk-container-id-1 {color: black;background-color: white;}#sk-container-id-1 pre{padding: 0;}#sk-container-id-1 div.sk-toggleable {background-color: white;}#sk-container-id-1 label.sk-toggleable__label {cursor: pointer;display: block;width: 100%;margin-bottom: 0;padding: 0.3em;box-sizing: border-box;text-align: center;}#sk-container-id-1 label.sk-toggleable__label-arrow:before {content: \"▸\";float: left;margin-right: 0.25em;color: #696969;}#sk-container-id-1 label.sk-toggleable__label-arrow:hover:before {color: black;}#sk-container-id-1 div.sk-estimator:hover label.sk-toggleable__label-arrow:before {color: black;}#sk-container-id-1 div.sk-toggleable__content {max-height: 0;max-width: 0;overflow: hidden;text-align: left;background-color: #f0f8ff;}#sk-container-id-1 div.sk-toggleable__content pre {margin: 0.2em;color: black;border-radius: 0.25em;background-color: #f0f8ff;}#sk-container-id-1 input.sk-toggleable__control:checked~div.sk-toggleable__content {max-height: 200px;max-width: 100%;overflow: auto;}#sk-container-id-1 input.sk-toggleable__control:checked~label.sk-toggleable__label-arrow:before {content: \"▾\";}#sk-container-id-1 div.sk-estimator input.sk-toggleable__control:checked~label.sk-toggleable__label {background-color: #d4ebff;}#sk-container-id-1 div.sk-label input.sk-toggleable__control:checked~label.sk-toggleable__label {background-color: #d4ebff;}#sk-container-id-1 input.sk-hidden--visually {border: 0;clip: rect(1px 1px 1px 1px);clip: rect(1px, 1px, 1px, 1px);height: 1px;margin: -1px;overflow: hidden;padding: 0;position: absolute;width: 1px;}#sk-container-id-1 div.sk-estimator {font-family: monospace;background-color: #f0f8ff;border: 1px dotted black;border-radius: 0.25em;box-sizing: border-box;margin-bottom: 0.5em;}#sk-container-id-1 div.sk-estimator:hover {background-color: #d4ebff;}#sk-container-id-1 div.sk-parallel-item::after {content: \"\";width: 100%;border-bottom: 1px solid gray;flex-grow: 1;}#sk-container-id-1 div.sk-label:hover label.sk-toggleable__label {background-color: #d4ebff;}#sk-container-id-1 div.sk-serial::before {content: \"\";position: absolute;border-left: 1px solid gray;box-sizing: border-box;top: 0;bottom: 0;left: 50%;z-index: 0;}#sk-container-id-1 div.sk-serial {display: flex;flex-direction: column;align-items: center;background-color: white;padding-right: 0.2em;padding-left: 0.2em;position: relative;}#sk-container-id-1 div.sk-item {position: relative;z-index: 1;}#sk-container-id-1 div.sk-parallel {display: flex;align-items: stretch;justify-content: center;background-color: white;position: relative;}#sk-container-id-1 div.sk-item::before, #sk-container-id-1 div.sk-parallel-item::before {content: \"\";position: absolute;border-left: 1px solid gray;box-sizing: border-box;top: 0;bottom: 0;left: 50%;z-index: -1;}#sk-container-id-1 div.sk-parallel-item {display: flex;flex-direction: column;z-index: 1;position: relative;background-color: white;}#sk-container-id-1 div.sk-parallel-item:first-child::after {align-self: flex-end;width: 50%;}#sk-container-id-1 div.sk-parallel-item:last-child::after {align-self: flex-start;width: 50%;}#sk-container-id-1 div.sk-parallel-item:only-child::after {width: 0;}#sk-container-id-1 div.sk-dashed-wrapped {border: 1px dashed gray;margin: 0 0.4em 0.5em 0.4em;box-sizing: border-box;padding-bottom: 0.4em;background-color: white;}#sk-container-id-1 div.sk-label label {font-family: monospace;font-weight: bold;display: inline-block;line-height: 1.2em;}#sk-container-id-1 div.sk-label-container {text-align: center;}#sk-container-id-1 div.sk-container {/* jupyter's `normalize.less` sets `[hidden] { display: none; }` but bootstrap.min.css set `[hidden] { display: none !important; }` so we also need the `!important` here to be able to override the default hidden behavior on the sphinx rendered scikit-learn.org. See: https://github.com/scikit-learn/scikit-learn/issues/21755 */display: inline-block !important;position: relative;}#sk-container-id-1 div.sk-text-repr-fallback {display: none;}</style><div id=\"sk-container-id-1\" class=\"sk-top-container\"><div class=\"sk-text-repr-fallback\"><pre>RandomForestClassifier(max_depth=60, min_samples_split=10, n_estimators=500,\n",
       "                       n_jobs=-1, random_state=42, verbose=1)</pre><b>In a Jupyter environment, please rerun this cell to show the HTML representation or trust the notebook. <br />On GitHub, the HTML representation is unable to render, please try loading this page with nbviewer.org.</b></div><div class=\"sk-container\" hidden><div class=\"sk-item\"><div class=\"sk-estimator sk-toggleable\"><input class=\"sk-toggleable__control sk-hidden--visually\" id=\"sk-estimator-id-1\" type=\"checkbox\" checked><label for=\"sk-estimator-id-1\" class=\"sk-toggleable__label sk-toggleable__label-arrow\">RandomForestClassifier</label><div class=\"sk-toggleable__content\"><pre>RandomForestClassifier(max_depth=60, min_samples_split=10, n_estimators=500,\n",
       "                       n_jobs=-1, random_state=42, verbose=1)</pre></div></div></div></div></div>"
      ],
      "text/plain": [
       "RandomForestClassifier(max_depth=60, min_samples_split=10, n_estimators=500,\n",
       "                       n_jobs=-1, random_state=42, verbose=1)"
      ]
     },
     "execution_count": 7,
     "metadata": {},
     "output_type": "execute_result"
    }
   ],
   "source": [
    "# Create the model with 100 trees\n",
    "random_forest_default = RandomForestClassifier(n_estimators=500, \n",
    "                               random_state=RSEED, \n",
    "                               max_features = 'sqrt',\n",
    "                               n_jobs=-1, verbose = 1, max_depth=60, min_samples_split=10)\n",
    "\n",
    "# Fit on small subset of training data\n",
    "random_forest_default.fit(X_train_tree_small, y_train_tree_small)"
   ]
  },
  {
   "cell_type": "code",
   "execution_count": 8,
   "metadata": {},
   "outputs": [
    {
     "name": "stdout",
     "output_type": "stream",
     "text": [
      "Average number of nodes 117699\n",
      "Average maximum depth 58\n"
     ]
    }
   ],
   "source": [
    "# number of nodes and depths of trees in the forest:\n",
    "\n",
    "n_nodes = []\n",
    "max_depths = []\n",
    "\n",
    "for ind_tree in random_forest_default.estimators_:\n",
    "    n_nodes.append(ind_tree.tree_.node_count)\n",
    "    max_depths.append(ind_tree.tree_.max_depth)\n",
    "    \n",
    "print(f'Average number of nodes {int(np.mean(n_nodes))}')\n",
    "print(f'Average maximum depth {int(np.mean(max_depths))}')"
   ]
  },
  {
   "cell_type": "markdown",
   "metadata": {},
   "source": [
    "# Default hyperpaprams model performance"
   ]
  },
  {
   "cell_type": "code",
   "execution_count": 9,
   "metadata": {},
   "outputs": [
    {
     "name": "stderr",
     "output_type": "stream",
     "text": [
      "[Parallel(n_jobs=8)]: Using backend ThreadingBackend with 8 concurrent workers.\n",
      "[Parallel(n_jobs=8)]: Done  34 tasks      | elapsed:    8.4s\n",
      "[Parallel(n_jobs=8)]: Done 184 tasks      | elapsed:   39.0s\n",
      "[Parallel(n_jobs=8)]: Done 434 tasks      | elapsed:  1.5min\n",
      "[Parallel(n_jobs=8)]: Done 500 out of 500 | elapsed:  1.8min finished\n",
      "[Parallel(n_jobs=8)]: Using backend ThreadingBackend with 8 concurrent workers.\n",
      "[Parallel(n_jobs=8)]: Done  34 tasks      | elapsed:    8.1s\n",
      "[Parallel(n_jobs=8)]: Done 184 tasks      | elapsed:   38.3s\n",
      "[Parallel(n_jobs=8)]: Done 434 tasks      | elapsed:  1.5min\n",
      "[Parallel(n_jobs=8)]: Done 500 out of 500 | elapsed:  1.7min finished\n"
     ]
    }
   ],
   "source": [
    "# predicting target and prediction probabilities with small data subset:\n",
    "\n",
    "rf_y_pred_train_small = random_forest_default.predict(X_train_tree_small)\n",
    "rf_y_probs_train_small = random_forest_default.predict_proba(X_train_tree_small)[:, 1]"
   ]
  },
  {
   "cell_type": "code",
   "execution_count": 10,
   "metadata": {},
   "outputs": [
    {
     "name": "stdout",
     "output_type": "stream",
     "text": [
      "Model Metrics and Normalized Confusion Matrix\n",
      "_____________________\n",
      "_____________________\n",
      "Accuracy: 0.9372\n",
      "_____________________\n",
      "F1-score: 0.3426\n",
      "_____________________\n",
      "Fbeta_score with beta=1.5: 0.274\n",
      "_____________________\n",
      "Fbeta_score with beta=2: 0.2463\n",
      "_____________________\n",
      "Fbeta_score with beta=3: 0.2252\n",
      "_____________________\n",
      "Recall 0.2075\n",
      "_____________________\n",
      "Specificity 0.9997\n"
     ]
    },
    {
     "data": {
      "image/png": "[encoded data removed]",
      "text/plain": [
       "<Figure size 640x480 with 2 Axes>"
      ]
     },
     "metadata": {},
     "output_type": "display_data"
    }
   ],
   "source": [
    "# accuracy matrix: predicted target and true target (small subset of training data)\n",
    "\n",
    "our_metrics(y_train_tree_small, rf_y_pred_train_small)"
   ]
  },
  {
   "cell_type": "code",
   "execution_count": 11,
   "metadata": {},
   "outputs": [
    {
     "name": "stdout",
     "output_type": "stream",
     "text": [
      "Train ROC AUC Score: 0.9942110090670602\n"
     ]
    }
   ],
   "source": [
    "# roc-auc-score of train (small subsample)\n",
    "print(f'Train ROC AUC Score: {roc_auc_score(y_train_tree_small, rf_y_probs_train_small)}')\n",
    "#print(f'Test ROC AUC  Score: {roc_auc_score(test_labels, probs)}')"
   ]
  },
  {
   "cell_type": "code",
   "execution_count": 12,
   "metadata": {},
   "outputs": [
    {
     "name": "stderr",
     "output_type": "stream",
     "text": [
      "[Parallel(n_jobs=8)]: Using backend ThreadingBackend with 8 concurrent workers.\n",
      "[Parallel(n_jobs=8)]: Done  34 tasks      | elapsed:   19.3s\n",
      "[Parallel(n_jobs=8)]: Done 184 tasks      | elapsed:  1.5min\n",
      "[Parallel(n_jobs=8)]: Done 434 tasks      | elapsed: 13.3min\n",
      "[Parallel(n_jobs=8)]: Done 500 out of 500 | elapsed: 15.8min finished\n",
      "[Parallel(n_jobs=8)]: Using backend ThreadingBackend with 8 concurrent workers.\n",
      "[Parallel(n_jobs=8)]: Done  34 tasks      | elapsed:   16.7s\n",
      "[Parallel(n_jobs=8)]: Done 184 tasks      | elapsed:  6.2min\n",
      "[Parallel(n_jobs=8)]: Done 434 tasks      | elapsed: 33.2min\n",
      "[Parallel(n_jobs=8)]: Done 500 out of 500 | elapsed: 33.7min finished\n"
     ]
    }
   ],
   "source": [
    "# predicting target and prediction probabilities with large data subset:\n",
    "\n",
    "rf_y_pred_train_large = random_forest_default.predict(X_train_tree_large)\n",
    "rf_y_probs_train_large = random_forest_default.predict_proba(X_train_tree_large)[:, 1]"
   ]
  },
  {
   "cell_type": "code",
   "execution_count": 13,
   "metadata": {},
   "outputs": [
    {
     "name": "stdout",
     "output_type": "stream",
     "text": [
      "Model Metrics and Normalized Confusion Matrix\n",
      "_____________________\n",
      "_____________________\n",
      "Accuracy: 0.9273\n",
      "_____________________\n",
      "F1-score: 0.1752\n",
      "_____________________\n",
      "Fbeta_score with beta=1.5: 0.1344\n",
      "_____________________\n",
      "Fbeta_score with beta=2: 0.1189\n",
      "_____________________\n",
      "Fbeta_score with beta=3: 0.1074\n",
      "_____________________\n",
      "Recall 0.0979\n",
      "_____________________\n",
      "Specificity 0.9983\n"
     ]
    },
    {
     "data": {
      "image/png": "[encoded data removed]",
      "text/plain": [
       "<Figure size 640x480 with 2 Axes>"
      ]
     },
     "metadata": {},
     "output_type": "display_data"
    }
   ],
   "source": [
    "# accuracy matrix: predicted target and true target (large subset of training data)\n",
    "\n",
    "our_metrics(y_train_tree_large, rf_y_pred_train_large)"
   ]
  },
  {
   "cell_type": "code",
   "execution_count": 14,
   "metadata": {},
   "outputs": [
    {
     "name": "stdout",
     "output_type": "stream",
     "text": [
      "Train ROC AUC Score: 0.7733384519320049\n"
     ]
    }
   ],
   "source": [
    "# roc-auc-score of test (large subsample)\n",
    "print(f'Train ROC AUC Score: {roc_auc_score(y_train_tree_large, rf_y_probs_train_large)}')"
   ]
  },
  {
   "cell_type": "markdown",
   "metadata": {},
   "source": [
    "# RandomizedSearch CV for best Fbeta-Score"
   ]
  },
  {
   "cell_type": "code",
   "execution_count": 15,
   "metadata": {},
   "outputs": [],
   "source": [
    "# making own scorer to use in random search cross validation\n",
    "# set beta = 1.5, 2, 3\n",
    "\n",
    "f15_scorer = make_scorer(fbeta_score, beta=1.5)\n",
    "f2_scorer = make_scorer(fbeta_score, beta=2)\n",
    "f3_scorer = make_scorer(fbeta_score, beta=3)"
   ]
  },
  {
   "cell_type": "code",
   "execution_count": 16,
   "metadata": {},
   "outputs": [
    {
     "name": "stdout",
     "output_type": "stream",
     "text": [
      "Average number of nodes 117699\n",
      "Average maximum depth 58\n"
     ]
    }
   ],
   "source": [
    "# number of nodes and depths of trees in the forest:\n",
    "\n",
    "n_nodes = []\n",
    "max_depths = []\n",
    "\n",
    "for ind_tree in random_forest_default.estimators_:\n",
    "    n_nodes.append(ind_tree.tree_.node_count)\n",
    "    max_depths.append(ind_tree.tree_.max_depth)\n",
    "    \n",
    "print(f'Average number of nodes {int(np.mean(n_nodes))}')\n",
    "print(f'Average maximum depth {int(np.mean(max_depths))}')"
   ]
  },
  {
   "cell_type": "code",
   "execution_count": 17,
   "metadata": {},
   "outputs": [
    {
     "data": {
      "text/plain": [
       "{'bootstrap': True,\n",
       " 'ccp_alpha': 0.0,\n",
       " 'class_weight': None,\n",
       " 'criterion': 'gini',\n",
       " 'max_depth': 60,\n",
       " 'max_features': 'sqrt',\n",
       " 'max_leaf_nodes': None,\n",
       " 'max_samples': None,\n",
       " 'min_impurity_decrease': 0.0,\n",
       " 'min_samples_leaf': 1,\n",
       " 'min_samples_split': 10,\n",
       " 'min_weight_fraction_leaf': 0.0,\n",
       " 'n_estimators': 500,\n",
       " 'n_jobs': -1,\n",
       " 'oob_score': False,\n",
       " 'random_state': 42,\n",
       " 'verbose': 1,\n",
       " 'warm_start': False}"
      ]
     },
     "execution_count": 17,
     "metadata": {},
     "output_type": "execute_result"
    }
   ],
   "source": [
    "# hypeparameters set in default model\n",
    "\n",
    "random_forest_default.get_params()"
   ]
  },
  {
   "cell_type": "code",
   "execution_count": 18,
   "metadata": {},
   "outputs": [
    {
     "name": "stdout",
     "output_type": "stream",
     "text": [
      "Fitting 3 folds for each of 10 candidates, totalling 30 fits\n"
     ]
    },
    {
     "name": "stderr",
     "output_type": "stream",
     "text": [
      "/Users/annastein/neuefische/fraud_detection_electricity_company/.venv/lib/python3.11/site-packages/sklearn/ensemble/_forest.py:424: FutureWarning: `max_features='auto'` has been deprecated in 1.1 and will be removed in 1.3. To keep the past behaviour, explicitly set `max_features='sqrt'` or remove this parameter as it is also the default value for RandomForestClassifiers and ExtraTreesClassifiers.\n",
      "  warn(\n",
      "/Users/annastein/neuefische/fraud_detection_electricity_company/.venv/lib/python3.11/site-packages/sklearn/ensemble/_forest.py:424: FutureWarning: `max_features='auto'` has been deprecated in 1.1 and will be removed in 1.3. To keep the past behaviour, explicitly set `max_features='sqrt'` or remove this parameter as it is also the default value for RandomForestClassifiers and ExtraTreesClassifiers.\n",
      "  warn(\n",
      "/Users/annastein/neuefische/fraud_detection_electricity_company/.venv/lib/python3.11/site-packages/sklearn/ensemble/_forest.py:424: FutureWarning: `max_features='auto'` has been deprecated in 1.1 and will be removed in 1.3. To keep the past behaviour, explicitly set `max_features='sqrt'` or remove this parameter as it is also the default value for RandomForestClassifiers and ExtraTreesClassifiers.\n",
      "  warn(\n",
      "/Users/annastein/neuefische/fraud_detection_electricity_company/.venv/lib/python3.11/site-packages/sklearn/ensemble/_forest.py:424: FutureWarning: `max_features='auto'` has been deprecated in 1.1 and will be removed in 1.3. To keep the past behaviour, explicitly set `max_features='sqrt'` or remove this parameter as it is also the default value for RandomForestClassifiers and ExtraTreesClassifiers.\n",
      "  warn(\n",
      "/Users/annastein/neuefische/fraud_detection_electricity_company/.venv/lib/python3.11/site-packages/sklearn/ensemble/_forest.py:424: FutureWarning: `max_features='auto'` has been deprecated in 1.1 and will be removed in 1.3. To keep the past behaviour, explicitly set `max_features='sqrt'` or remove this parameter as it is also the default value for RandomForestClassifiers and ExtraTreesClassifiers.\n",
      "  warn(\n"
     ]
    },
    {
     "name": "stdout",
     "output_type": "stream",
     "text": [
      "[CV 3/3] END bootstrap=True, max_depth=36, max_features=auto, min_samples_leaf=35, min_samples_split=10, n_estimators=100;, score=0.001 total time=148.4min\n",
      "[CV 1/3] END bootstrap=True, max_depth=36, max_features=auto, min_samples_leaf=35, min_samples_split=10, n_estimators=100;, score=0.003 total time=148.4min\n",
      "[CV 1/3] END bootstrap=False, max_depth=54, max_features=0.0, min_samples_leaf=50, min_samples_split=31, n_estimators=100;, score=nan total time=   1.2s\n",
      "[CV 2/3] END bootstrap=False, max_depth=54, max_features=0.0, min_samples_leaf=50, min_samples_split=31, n_estimators=100;, score=nan total time=   1.1s\n"
     ]
    },
    {
     "name": "stderr",
     "output_type": "stream",
     "text": [
      "/Users/annastein/neuefische/fraud_detection_electricity_company/.venv/lib/python3.11/site-packages/sklearn/ensemble/_forest.py:424: FutureWarning: `max_features='auto'` has been deprecated in 1.1 and will be removed in 1.3. To keep the past behaviour, explicitly set `max_features='sqrt'` or remove this parameter as it is also the default value for RandomForestClassifiers and ExtraTreesClassifiers.\n",
      "  warn(\n"
     ]
    },
    {
     "name": "stdout",
     "output_type": "stream",
     "text": [
      "[CV 2/3] END bootstrap=True, max_depth=36, max_features=auto, min_samples_leaf=35, min_samples_split=10, n_estimators=100;, score=0.001 total time=148.5min\n",
      "[CV 3/3] END bootstrap=False, max_depth=54, max_features=0.0, min_samples_leaf=50, min_samples_split=31, n_estimators=100;, score=nan total time=   0.7s\n",
      "[CV 1/3] END bootstrap=False, max_depth=60, max_features=sqrt, min_samples_leaf=50, min_samples_split=10, n_estimators=100;, score=0.003 total time=150.0min\n",
      "[CV 3/3] END bootstrap=False, max_depth=60, max_features=sqrt, min_samples_leaf=50, min_samples_split=10, n_estimators=100;, score=0.003 total time=150.0min\n",
      "[CV 2/3] END bootstrap=False, max_depth=60, max_features=sqrt, min_samples_leaf=50, min_samples_split=10, n_estimators=100;, score=0.003 total time=150.1min\n",
      "[CV 2/3] END bootstrap=False, max_depth=60, max_features=auto, min_samples_leaf=15, min_samples_split=136, n_estimators=100;, score=0.009 total time=151.1min\n",
      "[CV 1/3] END bootstrap=False, max_depth=60, max_features=auto, min_samples_leaf=15, min_samples_split=136, n_estimators=100;, score=0.006 total time=151.2min\n"
     ]
    },
    {
     "name": "stderr",
     "output_type": "stream",
     "text": [
      "/Users/annastein/neuefische/fraud_detection_electricity_company/.venv/lib/python3.11/site-packages/sklearn/ensemble/_forest.py:424: FutureWarning: `max_features='auto'` has been deprecated in 1.1 and will be removed in 1.3. To keep the past behaviour, explicitly set `max_features='sqrt'` or remove this parameter as it is also the default value for RandomForestClassifiers and ExtraTreesClassifiers.\n",
      "  warn(\n"
     ]
    },
    {
     "name": "stdout",
     "output_type": "stream",
     "text": [
      "[CV 1/3] END bootstrap=False, max_depth=36, max_features=sqrt, min_samples_leaf=40, min_samples_split=52, n_estimators=100;, score=0.003 total time=43.1min\n"
     ]
    },
    {
     "name": "stderr",
     "output_type": "stream",
     "text": [
      "/Users/annastein/neuefische/fraud_detection_electricity_company/.venv/lib/python3.11/site-packages/sklearn/ensemble/_forest.py:424: FutureWarning: `max_features='auto'` has been deprecated in 1.1 and will be removed in 1.3. To keep the past behaviour, explicitly set `max_features='sqrt'` or remove this parameter as it is also the default value for RandomForestClassifiers and ExtraTreesClassifiers.\n",
      "  warn(\n"
     ]
    },
    {
     "name": "stdout",
     "output_type": "stream",
     "text": [
      "[CV 2/3] END bootstrap=False, max_depth=36, max_features=sqrt, min_samples_leaf=40, min_samples_split=52, n_estimators=100;, score=0.004 total time=43.1min\n"
     ]
    },
    {
     "name": "stderr",
     "output_type": "stream",
     "text": [
      "/Users/annastein/neuefische/fraud_detection_electricity_company/.venv/lib/python3.11/site-packages/sklearn/ensemble/_forest.py:424: FutureWarning: `max_features='auto'` has been deprecated in 1.1 and will be removed in 1.3. To keep the past behaviour, explicitly set `max_features='sqrt'` or remove this parameter as it is also the default value for RandomForestClassifiers and ExtraTreesClassifiers.\n",
      "  warn(\n"
     ]
    },
    {
     "name": "stdout",
     "output_type": "stream",
     "text": [
      "[CV 1/3] END bootstrap=True, max_depth=30, max_features=auto, min_samples_leaf=35, min_samples_split=136, n_estimators=100;, score=0.002 total time=40.6min\n",
      "[CV 3/3] END bootstrap=False, max_depth=60, max_features=auto, min_samples_leaf=15, min_samples_split=136, n_estimators=100;, score=0.009 total time=43.6min\n",
      "[CV 3/3] END bootstrap=False, max_depth=36, max_features=sqrt, min_samples_leaf=40, min_samples_split=52, n_estimators=100;, score=0.004 total time=52.4min\n",
      "[CV 3/3] END bootstrap=True, max_depth=30, max_features=auto, min_samples_leaf=35, min_samples_split=136, n_estimators=100;, score=0.001 total time=19.6min\n",
      "[CV 2/3] END bootstrap=True, max_depth=30, max_features=auto, min_samples_leaf=35, min_samples_split=136, n_estimators=100;, score=0.002 total time=19.7min\n"
     ]
    },
    {
     "name": "stderr",
     "output_type": "stream",
     "text": [
      "/Users/annastein/neuefische/fraud_detection_electricity_company/.venv/lib/python3.11/site-packages/sklearn/ensemble/_forest.py:424: FutureWarning: `max_features='auto'` has been deprecated in 1.1 and will be removed in 1.3. To keep the past behaviour, explicitly set `max_features='sqrt'` or remove this parameter as it is also the default value for RandomForestClassifiers and ExtraTreesClassifiers.\n",
      "  warn(\n",
      "/Users/annastein/neuefische/fraud_detection_electricity_company/.venv/lib/python3.11/site-packages/sklearn/ensemble/_forest.py:424: FutureWarning: `max_features='auto'` has been deprecated in 1.1 and will be removed in 1.3. To keep the past behaviour, explicitly set `max_features='sqrt'` or remove this parameter as it is also the default value for RandomForestClassifiers and ExtraTreesClassifiers.\n",
      "  warn(\n"
     ]
    },
    {
     "name": "stdout",
     "output_type": "stream",
     "text": [
      "[CV 1/3] END bootstrap=False, max_depth=60, max_features=sqrt, min_samples_leaf=20, min_samples_split=94, n_estimators=100;, score=0.007 total time=54.3min\n"
     ]
    },
    {
     "name": "stderr",
     "output_type": "stream",
     "text": [
      "/Users/annastein/neuefische/fraud_detection_electricity_company/.venv/lib/python3.11/site-packages/sklearn/ensemble/_forest.py:424: FutureWarning: `max_features='auto'` has been deprecated in 1.1 and will be removed in 1.3. To keep the past behaviour, explicitly set `max_features='sqrt'` or remove this parameter as it is also the default value for RandomForestClassifiers and ExtraTreesClassifiers.\n",
      "  warn(\n"
     ]
    },
    {
     "name": "stdout",
     "output_type": "stream",
     "text": [
      "[CV 2/3] END bootstrap=False, max_depth=60, max_features=sqrt, min_samples_leaf=20, min_samples_split=94, n_estimators=100;, score=0.008 total time=54.4min\n",
      "[CV 1/3] END bootstrap=False, max_depth=60, max_features=0.0, min_samples_leaf=40, min_samples_split=178, n_estimators=100;, score=nan total time=   0.6s\n",
      "[CV 2/3] END bootstrap=False, max_depth=60, max_features=0.0, min_samples_leaf=40, min_samples_split=178, n_estimators=100;, score=nan total time=   0.6s\n",
      "[CV 3/3] END bootstrap=False, max_depth=60, max_features=0.0, min_samples_leaf=40, min_samples_split=178, n_estimators=100;, score=nan total time=   0.5s\n",
      "[CV 3/3] END bootstrap=False, max_depth=60, max_features=sqrt, min_samples_leaf=20, min_samples_split=94, n_estimators=100;, score=0.007 total time=59.8min\n",
      "[CV 1/3] END bootstrap=False, max_depth=48, max_features=auto, min_samples_leaf=15, min_samples_split=136, n_estimators=100;, score=0.008 total time=102.3min\n",
      "[CV 2/3] END bootstrap=False, max_depth=48, max_features=auto, min_samples_leaf=15, min_samples_split=136, n_estimators=100;, score=0.009 total time=102.3min\n",
      "[CV 3/3] END bootstrap=False, max_depth=48, max_features=auto, min_samples_leaf=15, min_samples_split=136, n_estimators=100;, score=0.009 total time=68.6min\n",
      "[CV 1/3] END bootstrap=False, max_depth=None, max_features=None, min_samples_leaf=50, min_samples_split=52, n_estimators=100;, score=0.084 total time=312.3min\n",
      "[CV 3/3] END bootstrap=False, max_depth=None, max_features=None, min_samples_leaf=50, min_samples_split=52, n_estimators=100;, score=0.075 total time=311.4min\n",
      "[CV 2/3] END bootstrap=False, max_depth=None, max_features=None, min_samples_leaf=50, min_samples_split=52, n_estimators=100;, score=0.082 total time=312.5min\n"
     ]
    },
    {
     "data": {
      "text/html": [
       "<style>#sk-container-id-2 {color: black;background-color: white;}#sk-container-id-2 pre{padding: 0;}#sk-container-id-2 div.sk-toggleable {background-color: white;}#sk-container-id-2 label.sk-toggleable__label {cursor: pointer;display: block;width: 100%;margin-bottom: 0;padding: 0.3em;box-sizing: border-box;text-align: center;}#sk-container-id-2 label.sk-toggleable__label-arrow:before {content: \"▸\";float: left;margin-right: 0.25em;color: #696969;}#sk-container-id-2 label.sk-toggleable__label-arrow:hover:before {color: black;}#sk-container-id-2 div.sk-estimator:hover label.sk-toggleable__label-arrow:before {color: black;}#sk-container-id-2 div.sk-toggleable__content {max-height: 0;max-width: 0;overflow: hidden;text-align: left;background-color: #f0f8ff;}#sk-container-id-2 div.sk-toggleable__content pre {margin: 0.2em;color: black;border-radius: 0.25em;background-color: #f0f8ff;}#sk-container-id-2 input.sk-toggleable__control:checked~div.sk-toggleable__content {max-height: 200px;max-width: 100%;overflow: auto;}#sk-container-id-2 input.sk-toggleable__control:checked~label.sk-toggleable__label-arrow:before {content: \"▾\";}#sk-container-id-2 div.sk-estimator input.sk-toggleable__control:checked~label.sk-toggleable__label {background-color: #d4ebff;}#sk-container-id-2 div.sk-label input.sk-toggleable__control:checked~label.sk-toggleable__label {background-color: #d4ebff;}#sk-container-id-2 input.sk-hidden--visually {border: 0;clip: rect(1px 1px 1px 1px);clip: rect(1px, 1px, 1px, 1px);height: 1px;margin: -1px;overflow: hidden;padding: 0;position: absolute;width: 1px;}#sk-container-id-2 div.sk-estimator {font-family: monospace;background-color: #f0f8ff;border: 1px dotted black;border-radius: 0.25em;box-sizing: border-box;margin-bottom: 0.5em;}#sk-container-id-2 div.sk-estimator:hover {background-color: #d4ebff;}#sk-container-id-2 div.sk-parallel-item::after {content: \"\";width: 100%;border-bottom: 1px solid gray;flex-grow: 1;}#sk-container-id-2 div.sk-label:hover label.sk-toggleable__label {background-color: #d4ebff;}#sk-container-id-2 div.sk-serial::before {content: \"\";position: absolute;border-left: 1px solid gray;box-sizing: border-box;top: 0;bottom: 0;left: 50%;z-index: 0;}#sk-container-id-2 div.sk-serial {display: flex;flex-direction: column;align-items: center;background-color: white;padding-right: 0.2em;padding-left: 0.2em;position: relative;}#sk-container-id-2 div.sk-item {position: relative;z-index: 1;}#sk-container-id-2 div.sk-parallel {display: flex;align-items: stretch;justify-content: center;background-color: white;position: relative;}#sk-container-id-2 div.sk-item::before, #sk-container-id-2 div.sk-parallel-item::before {content: \"\";position: absolute;border-left: 1px solid gray;box-sizing: border-box;top: 0;bottom: 0;left: 50%;z-index: -1;}#sk-container-id-2 div.sk-parallel-item {display: flex;flex-direction: column;z-index: 1;position: relative;background-color: white;}#sk-container-id-2 div.sk-parallel-item:first-child::after {align-self: flex-end;width: 50%;}#sk-container-id-2 div.sk-parallel-item:last-child::after {align-self: flex-start;width: 50%;}#sk-container-id-2 div.sk-parallel-item:only-child::after {width: 0;}#sk-container-id-2 div.sk-dashed-wrapped {border: 1px dashed gray;margin: 0 0.4em 0.5em 0.4em;box-sizing: border-box;padding-bottom: 0.4em;background-color: white;}#sk-container-id-2 div.sk-label label {font-family: monospace;font-weight: bold;display: inline-block;line-height: 1.2em;}#sk-container-id-2 div.sk-label-container {text-align: center;}#sk-container-id-2 div.sk-container {/* jupyter's `normalize.less` sets `[hidden] { display: none; }` but bootstrap.min.css set `[hidden] { display: none !important; }` so we also need the `!important` here to be able to override the default hidden behavior on the sphinx rendered scikit-learn.org. See: https://github.com/scikit-learn/scikit-learn/issues/21755 */display: inline-block !important;position: relative;}#sk-container-id-2 div.sk-text-repr-fallback {display: none;}</style><div id=\"sk-container-id-2\" class=\"sk-top-container\"><div class=\"sk-text-repr-fallback\"><pre>RandomizedSearchCV(cv=3, estimator=RandomForestClassifier(random_state=42),\n",
       "                   n_jobs=-1,\n",
       "                   param_distributions={&#x27;bootstrap&#x27;: [True, False],\n",
       "                                        &#x27;max_depth&#x27;: [None, 30, 36, 42, 48, 54,\n",
       "                                                      60],\n",
       "                                        &#x27;max_features&#x27;: [&#x27;auto&#x27;, &#x27;sqrt&#x27;, None,\n",
       "                                                         0.0],\n",
       "                                        &#x27;min_samples_leaf&#x27;: array([ 5, 10, 15, 20, 25, 30, 35, 40, 45, 50]),\n",
       "                                        &#x27;min_samples_split&#x27;: array([ 10,  31,  52,  73,  94, 115, 136, 157, 178, 200]),\n",
       "                                        &#x27;n_estimators&#x27;: [100]},\n",
       "                   random_state=42, scoring=make_scorer(fbeta_score, beta=1.5),\n",
       "                   verbose=5)</pre><b>In a Jupyter environment, please rerun this cell to show the HTML representation or trust the notebook. <br />On GitHub, the HTML representation is unable to render, please try loading this page with nbviewer.org.</b></div><div class=\"sk-container\" hidden><div class=\"sk-item sk-dashed-wrapped\"><div class=\"sk-label-container\"><div class=\"sk-label sk-toggleable\"><input class=\"sk-toggleable__control sk-hidden--visually\" id=\"sk-estimator-id-2\" type=\"checkbox\" ><label for=\"sk-estimator-id-2\" class=\"sk-toggleable__label sk-toggleable__label-arrow\">RandomizedSearchCV</label><div class=\"sk-toggleable__content\"><pre>RandomizedSearchCV(cv=3, estimator=RandomForestClassifier(random_state=42),\n",
       "                   n_jobs=-1,\n",
       "                   param_distributions={&#x27;bootstrap&#x27;: [True, False],\n",
       "                                        &#x27;max_depth&#x27;: [None, 30, 36, 42, 48, 54,\n",
       "                                                      60],\n",
       "                                        &#x27;max_features&#x27;: [&#x27;auto&#x27;, &#x27;sqrt&#x27;, None,\n",
       "                                                         0.0],\n",
       "                                        &#x27;min_samples_leaf&#x27;: array([ 5, 10, 15, 20, 25, 30, 35, 40, 45, 50]),\n",
       "                                        &#x27;min_samples_split&#x27;: array([ 10,  31,  52,  73,  94, 115, 136, 157, 178, 200]),\n",
       "                                        &#x27;n_estimators&#x27;: [100]},\n",
       "                   random_state=42, scoring=make_scorer(fbeta_score, beta=1.5),\n",
       "                   verbose=5)</pre></div></div></div><div class=\"sk-parallel\"><div class=\"sk-parallel-item\"><div class=\"sk-item\"><div class=\"sk-label-container\"><div class=\"sk-label sk-toggleable\"><input class=\"sk-toggleable__control sk-hidden--visually\" id=\"sk-estimator-id-3\" type=\"checkbox\" ><label for=\"sk-estimator-id-3\" class=\"sk-toggleable__label sk-toggleable__label-arrow\">estimator: RandomForestClassifier</label><div class=\"sk-toggleable__content\"><pre>RandomForestClassifier(random_state=42)</pre></div></div></div><div class=\"sk-serial\"><div class=\"sk-item\"><div class=\"sk-estimator sk-toggleable\"><input class=\"sk-toggleable__control sk-hidden--visually\" id=\"sk-estimator-id-4\" type=\"checkbox\" ><label for=\"sk-estimator-id-4\" class=\"sk-toggleable__label sk-toggleable__label-arrow\">RandomForestClassifier</label><div class=\"sk-toggleable__content\"><pre>RandomForestClassifier(random_state=42)</pre></div></div></div></div></div></div></div></div></div></div>"
      ],
      "text/plain": [
       "RandomizedSearchCV(cv=3, estimator=RandomForestClassifier(random_state=42),\n",
       "                   n_jobs=-1,\n",
       "                   param_distributions={'bootstrap': [True, False],\n",
       "                                        'max_depth': [None, 30, 36, 42, 48, 54,\n",
       "                                                      60],\n",
       "                                        'max_features': ['auto', 'sqrt', None,\n",
       "                                                         0.0],\n",
       "                                        'min_samples_leaf': array([ 5, 10, 15, 20, 25, 30, 35, 40, 45, 50]),\n",
       "                                        'min_samples_split': array([ 10,  31,  52,  73,  94, 115, 136, 157, 178, 200]),\n",
       "                                        'n_estimators': [100]},\n",
       "                   random_state=42, scoring=make_scorer(fbeta_score, beta=1.5),\n",
       "                   verbose=5)"
      ]
     },
     "execution_count": 18,
     "metadata": {},
     "output_type": "execute_result"
    }
   ],
   "source": [
    "# Hyperparameter grid\n",
    "param_grid = {\n",
    "    'n_estimators': [100],\n",
    "    'max_depth': [None] + list(np.linspace(30, 60, 6).astype(int)),\n",
    "    'max_features': ['auto', 'sqrt', None] + list(np.arange(0.1)),\n",
    "    'min_samples_split': np.linspace(10, 200, 10).astype(int),\n",
    "    'min_samples_leaf': np.linspace(5, 50, 10).astype(int),\n",
    "    'bootstrap': [True, False]\n",
    "}\n",
    "\n",
    "# Estimator for use in random search\n",
    "estimator = RandomForestClassifier(random_state = RSEED)\n",
    "\n",
    "# Create the random search model\n",
    "random_forest_rs = RandomizedSearchCV(estimator, param_grid, n_jobs = -1, \n",
    "                        scoring = f15_scorer, cv = 3, \n",
    "                        n_iter = 10, verbose = 5, random_state=RSEED)\n",
    "\n",
    "# cv = cross validation\n",
    "\n",
    "# Fit \n",
    "random_forest_rs.fit(X_train_tree_small, y_train_tree_small)"
   ]
  },
  {
   "cell_type": "code",
   "execution_count": 23,
   "metadata": {},
   "outputs": [
    {
     "name": "stdout",
     "output_type": "stream",
     "text": [
      "Best score: 0.08\n",
      "Best parameters: {'n_estimators': 100, 'min_samples_split': 52, 'min_samples_leaf': 50, 'max_features': None, 'max_depth': None, 'bootstrap': False}\n"
     ]
    }
   ],
   "source": [
    "# # Best score\n",
    "print('Best score:', round(random_forest_rs.best_score_,2))\n",
    "\n",
    "# # Best parameters\n",
    "print('Best parameters:', random_forest_rs.best_params_)"
   ]
  },
  {
   "cell_type": "code",
   "execution_count": 24,
   "metadata": {},
   "outputs": [],
   "source": [
    "# # Assigning the fitted SGDClassifier model with best parameter combination to a new variable sgd_best\n",
    "random_forest_best_model = random_forest_rs.best_estimator_"
   ]
  },
  {
   "cell_type": "code",
   "execution_count": 25,
   "metadata": {},
   "outputs": [],
   "source": [
    "# predicting target and prediction probabilities with large data subset using the best model found in random grid search:\n",
    "\n",
    "rs_y_pred_train_large = random_forest_best_model.predict(X_train_tree_large)\n",
    "rs_y_probs_train_large = random_forest_best_model.predict_proba(X_train_tree_large)[:, 1]"
   ]
  },
  {
   "cell_type": "code",
   "execution_count": 27,
   "metadata": {},
   "outputs": [
    {
     "name": "stdout",
     "output_type": "stream",
     "text": [
      "Model Metrics and Normalized Confusion Matrix\n",
      "_____________________\n",
      "_____________________\n",
      "Accuracy: 0.9244\n",
      "_____________________\n",
      "F1-score: 0.1261\n",
      "_____________________\n",
      "Fbeta_score with beta=1.5: 0.0958\n",
      "_____________________\n",
      "Fbeta_score with beta=2: 0.0844\n",
      "_____________________\n",
      "Fbeta_score with beta=3: 0.0761\n",
      "_____________________\n",
      "Recall 0.0692\n",
      "_____________________\n",
      "Specificity 0.9976\n"
     ]
    },
    {
     "data": {
      "image/png": "[encoded data removed]",
      "text/plain": [
       "<Figure size 640x480 with 2 Axes>"
      ]
     },
     "metadata": {},
     "output_type": "display_data"
    }
   ],
   "source": [
    "# metrics of best model found in random grid search\n",
    "\n",
    "our_metrics(y_train_tree_large, rs_y_pred_train_large)"
   ]
  },
  {
   "cell_type": "code",
   "execution_count": 28,
   "metadata": {},
   "outputs": [
    {
     "name": "stdout",
     "output_type": "stream",
     "text": [
      "Train ROC AUC Score: 0.7271486831865841\n"
     ]
    }
   ],
   "source": [
    "# roc-auc-score of test (large subsample)\n",
    "print(f'Train ROC AUC Score: {roc_auc_score(y_train_tree_large, rs_y_probs_train_large)}')"
   ]
  },
  {
   "cell_type": "markdown",
   "metadata": {},
   "source": [
    "## Fitting the Model with Hyperparams found by Random Grid Search"
   ]
  },
  {
   "cell_type": "code",
   "execution_count": 29,
   "metadata": {},
   "outputs": [
    {
     "name": "stdout",
     "output_type": "stream",
     "text": [
      "Best parameters: {'n_estimators': 100, 'min_samples_split': 52, 'min_samples_leaf': 50, 'max_features': None, 'max_depth': None, 'bootstrap': False}\n"
     ]
    }
   ],
   "source": [
    "# # Best parameters found by random grid search\n",
    "print('Best parameters:', random_forest_rs.best_params_)"
   ]
  },
  {
   "cell_type": "code",
   "execution_count": 33,
   "metadata": {},
   "outputs": [
    {
     "name": "stderr",
     "output_type": "stream",
     "text": [
      "[Parallel(n_jobs=-1)]: Using backend ThreadingBackend with 8 concurrent workers.\n",
      "[Parallel(n_jobs=-1)]: Done  34 tasks      | elapsed:  5.0min\n",
      "[Parallel(n_jobs=-1)]: Done 100 out of 100 | elapsed: 11.7min finished\n"
     ]
    },
    {
     "data": {
      "text/html": [
       "<style>#sk-container-id-3 {color: black;background-color: white;}#sk-container-id-3 pre{padding: 0;}#sk-container-id-3 div.sk-toggleable {background-color: white;}#sk-container-id-3 label.sk-toggleable__label {cursor: pointer;display: block;width: 100%;margin-bottom: 0;padding: 0.3em;box-sizing: border-box;text-align: center;}#sk-container-id-3 label.sk-toggleable__label-arrow:before {content: \"▸\";float: left;margin-right: 0.25em;color: #696969;}#sk-container-id-3 label.sk-toggleable__label-arrow:hover:before {color: black;}#sk-container-id-3 div.sk-estimator:hover label.sk-toggleable__label-arrow:before {color: black;}#sk-container-id-3 div.sk-toggleable__content {max-height: 0;max-width: 0;overflow: hidden;text-align: left;background-color: #f0f8ff;}#sk-container-id-3 div.sk-toggleable__content pre {margin: 0.2em;color: black;border-radius: 0.25em;background-color: #f0f8ff;}#sk-container-id-3 input.sk-toggleable__control:checked~div.sk-toggleable__content {max-height: 200px;max-width: 100%;overflow: auto;}#sk-container-id-3 input.sk-toggleable__control:checked~label.sk-toggleable__label-arrow:before {content: \"▾\";}#sk-container-id-3 div.sk-estimator input.sk-toggleable__control:checked~label.sk-toggleable__label {background-color: #d4ebff;}#sk-container-id-3 div.sk-label input.sk-toggleable__control:checked~label.sk-toggleable__label {background-color: #d4ebff;}#sk-container-id-3 input.sk-hidden--visually {border: 0;clip: rect(1px 1px 1px 1px);clip: rect(1px, 1px, 1px, 1px);height: 1px;margin: -1px;overflow: hidden;padding: 0;position: absolute;width: 1px;}#sk-container-id-3 div.sk-estimator {font-family: monospace;background-color: #f0f8ff;border: 1px dotted black;border-radius: 0.25em;box-sizing: border-box;margin-bottom: 0.5em;}#sk-container-id-3 div.sk-estimator:hover {background-color: #d4ebff;}#sk-container-id-3 div.sk-parallel-item::after {content: \"\";width: 100%;border-bottom: 1px solid gray;flex-grow: 1;}#sk-container-id-3 div.sk-label:hover label.sk-toggleable__label {background-color: #d4ebff;}#sk-container-id-3 div.sk-serial::before {content: \"\";position: absolute;border-left: 1px solid gray;box-sizing: border-box;top: 0;bottom: 0;left: 50%;z-index: 0;}#sk-container-id-3 div.sk-serial {display: flex;flex-direction: column;align-items: center;background-color: white;padding-right: 0.2em;padding-left: 0.2em;position: relative;}#sk-container-id-3 div.sk-item {position: relative;z-index: 1;}#sk-container-id-3 div.sk-parallel {display: flex;align-items: stretch;justify-content: center;background-color: white;position: relative;}#sk-container-id-3 div.sk-item::before, #sk-container-id-3 div.sk-parallel-item::before {content: \"\";position: absolute;border-left: 1px solid gray;box-sizing: border-box;top: 0;bottom: 0;left: 50%;z-index: -1;}#sk-container-id-3 div.sk-parallel-item {display: flex;flex-direction: column;z-index: 1;position: relative;background-color: white;}#sk-container-id-3 div.sk-parallel-item:first-child::after {align-self: flex-end;width: 50%;}#sk-container-id-3 div.sk-parallel-item:last-child::after {align-self: flex-start;width: 50%;}#sk-container-id-3 div.sk-parallel-item:only-child::after {width: 0;}#sk-container-id-3 div.sk-dashed-wrapped {border: 1px dashed gray;margin: 0 0.4em 0.5em 0.4em;box-sizing: border-box;padding-bottom: 0.4em;background-color: white;}#sk-container-id-3 div.sk-label label {font-family: monospace;font-weight: bold;display: inline-block;line-height: 1.2em;}#sk-container-id-3 div.sk-label-container {text-align: center;}#sk-container-id-3 div.sk-container {/* jupyter's `normalize.less` sets `[hidden] { display: none; }` but bootstrap.min.css set `[hidden] { display: none !important; }` so we also need the `!important` here to be able to override the default hidden behavior on the sphinx rendered scikit-learn.org. See: https://github.com/scikit-learn/scikit-learn/issues/21755 */display: inline-block !important;position: relative;}#sk-container-id-3 div.sk-text-repr-fallback {display: none;}</style><div id=\"sk-container-id-3\" class=\"sk-top-container\"><div class=\"sk-text-repr-fallback\"><pre>RandomForestClassifier(bootstrap=False, min_samples_leaf=50,\n",
       "                       min_samples_split=52, n_jobs=-1, random_state=42,\n",
       "                       verbose=1)</pre><b>In a Jupyter environment, please rerun this cell to show the HTML representation or trust the notebook. <br />On GitHub, the HTML representation is unable to render, please try loading this page with nbviewer.org.</b></div><div class=\"sk-container\" hidden><div class=\"sk-item\"><div class=\"sk-estimator sk-toggleable\"><input class=\"sk-toggleable__control sk-hidden--visually\" id=\"sk-estimator-id-5\" type=\"checkbox\" checked><label for=\"sk-estimator-id-5\" class=\"sk-toggleable__label sk-toggleable__label-arrow\">RandomForestClassifier</label><div class=\"sk-toggleable__content\"><pre>RandomForestClassifier(bootstrap=False, min_samples_leaf=50,\n",
       "                       min_samples_split=52, n_jobs=-1, random_state=42,\n",
       "                       verbose=1)</pre></div></div></div></div></div>"
      ],
      "text/plain": [
       "RandomForestClassifier(bootstrap=False, min_samples_leaf=50,\n",
       "                       min_samples_split=52, n_jobs=-1, random_state=42,\n",
       "                       verbose=1)"
      ]
     },
     "execution_count": 33,
     "metadata": {},
     "output_type": "execute_result"
    }
   ],
   "source": [
    "# instantiate the model with best hyperparams and fit on entire train set \n",
    "tuned_random_forest = RandomForestClassifier(n_estimators=100, \n",
    "                               random_state=RSEED,\n",
    "                               n_jobs=-1, verbose = 1, bootstrap=False, min_samples_split=52, min_samples_leaf=50)\n",
    "\n",
    "# Fit on small subset of training data\n",
    "tuned_random_forest.fit(X_train_tree, y_train_tree)"
   ]
  },
  {
   "cell_type": "code",
   "execution_count": 34,
   "metadata": {},
   "outputs": [
    {
     "name": "stderr",
     "output_type": "stream",
     "text": [
      "[Parallel(n_jobs=8)]: Using backend ThreadingBackend with 8 concurrent workers.\n",
      "[Parallel(n_jobs=8)]: Done  34 tasks      | elapsed:   20.0s\n",
      "[Parallel(n_jobs=8)]: Done 100 out of 100 | elapsed:   49.8s finished\n",
      "[Parallel(n_jobs=8)]: Using backend ThreadingBackend with 8 concurrent workers.\n",
      "[Parallel(n_jobs=8)]: Done  34 tasks      | elapsed:   15.8s\n",
      "[Parallel(n_jobs=8)]: Done 100 out of 100 | elapsed:   41.4s finished\n"
     ]
    }
   ],
   "source": [
    "# predicting target and prediction probabilities of test set\n",
    "\n",
    "y_train_tree_pred = tuned_random_forest.predict(X_train_tree)\n",
    "y_train_tree_probs = tuned_random_forest.predict_proba(X_train_tree)[:, 1]"
   ]
  },
  {
   "cell_type": "code",
   "execution_count": 35,
   "metadata": {},
   "outputs": [
    {
     "name": "stdout",
     "output_type": "stream",
     "text": [
      "Model Metrics and Normalized Confusion Matrix\n",
      "_____________________\n",
      "_____________________\n",
      "Accuracy: 0.9225\n",
      "_____________________\n",
      "F1-score: 0.0335\n",
      "_____________________\n",
      "Fbeta_score with beta=1.5: 0.0244\n",
      "_____________________\n",
      "Fbeta_score with beta=2: 0.0212\n",
      "_____________________\n",
      "Fbeta_score with beta=3: 0.0189\n",
      "_____________________\n",
      "Recall 0.017\n",
      "_____________________\n",
      "Specificity 1.0\n"
     ]
    },
    {
     "data": {
      "image/png": "[encoded data removed]",
      "text/plain": [
       "<Figure size 640x480 with 2 Axes>"
      ]
     },
     "metadata": {},
     "output_type": "display_data"
    }
   ],
   "source": [
    "# metrics of best model trained on entire data\n",
    "\n",
    "our_metrics(y_train_tree, y_train_tree_pred)"
   ]
  },
  {
   "cell_type": "code",
   "execution_count": 36,
   "metadata": {},
   "outputs": [
    {
     "name": "stderr",
     "output_type": "stream",
     "text": [
      "[Parallel(n_jobs=8)]: Using backend ThreadingBackend with 8 concurrent workers.\n",
      "[Parallel(n_jobs=8)]: Done  34 tasks      | elapsed:    6.1s\n",
      "[Parallel(n_jobs=8)]: Done 100 out of 100 | elapsed:   15.7s finished\n",
      "[Parallel(n_jobs=8)]: Using backend ThreadingBackend with 8 concurrent workers.\n",
      "[Parallel(n_jobs=8)]: Done  34 tasks      | elapsed:    5.6s\n",
      "[Parallel(n_jobs=8)]: Done 100 out of 100 | elapsed:   16.8s finished\n"
     ]
    }
   ],
   "source": [
    "# predicting target and prediction probabilities of test set\n",
    "\n",
    "y_test_tree_pred = tuned_random_forest.predict(X_test_tree)\n",
    "y_test_tree_probs = tuned_random_forest.predict_proba(X_test_tree)[:, 1]"
   ]
  },
  {
   "cell_type": "code",
   "execution_count": 37,
   "metadata": {},
   "outputs": [
    {
     "name": "stdout",
     "output_type": "stream",
     "text": [
      "Model Metrics and Normalized Confusion Matrix\n",
      "_____________________\n",
      "_____________________\n",
      "Accuracy: 0.9224\n",
      "_____________________\n",
      "F1-score: 0.0321\n",
      "_____________________\n",
      "Fbeta_score with beta=1.5: 0.0234\n",
      "_____________________\n",
      "Fbeta_score with beta=2: 0.0203\n",
      "_____________________\n",
      "Fbeta_score with beta=3: 0.0181\n",
      "_____________________\n",
      "Recall 0.0163\n",
      "_____________________\n",
      "Specificity 1.0\n"
     ]
    },
    {
     "data": {
      "image/png": "[encoded data removed]",
      "text/plain": [
       "<Figure size 640x480 with 2 Axes>"
      ]
     },
     "metadata": {},
     "output_type": "display_data"
    }
   ],
   "source": [
    "# metrics of best model trained on entire data\n",
    "\n",
    "our_metrics(y_test_tree, y_test_tree_pred)"
   ]
  }
 ],
 "metadata": {
  "kernelspec": {
   "display_name": ".venv",
   "language": "python",
   "name": "python3"
  },
  "language_info": {
   "codemirror_mode": {
    "name": "ipython",
    "version": 3
   },
   "file_extension": ".py",
   "mimetype": "text/x-python",
   "name": "python",
   "nbconvert_exporter": "python",
   "pygments_lexer": "ipython3",
   "version": "3.11.3"
  },
  "orig_nbformat": 4
 },
 "nbformat": 4,
 "nbformat_minor": 2
}
