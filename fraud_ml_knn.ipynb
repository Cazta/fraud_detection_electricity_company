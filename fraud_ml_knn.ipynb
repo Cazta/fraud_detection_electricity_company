{
 "cells": [
  {
   "cell_type": "markdown",
   "metadata": {},
   "source": [
    "## import libraries"
   ]
  },
  {
   "cell_type": "code",
   "execution_count": 2,
   "metadata": {},
   "outputs": [],
   "source": [
    "# import necessary libraries\n",
    "\n",
    "import pandas as pd\n",
    "import numpy as np\n",
    "import missingno as msno \n",
    "import seaborn as sns\n",
    "import matplotlib.pyplot as plt \n",
    "\n",
    "#sklearn\n",
    "\n",
    "from sklearn.model_selection import train_test_split, cross_val_score\n",
    "from sklearn.linear_model import LogisticRegression, SGDClassifier\n",
    "from sklearn.neighbors import KNeighborsClassifier\n",
    "from sklearn.metrics import f1_score, fbeta_score\n",
    "from sklearn.metrics import precision_score, recall_score, roc_auc_score, roc_curve\n",
    "from sklearn.metrics import confusion_matrix, classification_report\n",
    "from sklearn.metrics import accuracy_score, balanced_accuracy_score\n",
    "\n",
    "# import custom functions\n",
    "\n",
    "from custom_functions import get_data_summary, our_metrics, eval_metrics, evaluate_model\n",
    "\n",
    "\n",
    "import warnings\n",
    "warnings.filterwarnings('ignore')"
   ]
  },
  {
   "cell_type": "markdown",
   "metadata": {},
   "source": [
    "# Import test and train data, target"
   ]
  },
  {
   "cell_type": "code",
   "execution_count": 3,
   "metadata": {},
   "outputs": [],
   "source": [
    "# load data\n",
    "\n",
    "X_train_orig = pd.read_csv('data/X_train_orig.csv', delimiter=',')\n",
    "X_test_orig = pd.read_csv('data/X_test_orig.csv', delimiter=',')\n",
    "X_train_minmax = pd.read_csv('data/X_train_minmax.csv', delimiter=',')\n",
    "X_test_minmax = pd.read_csv('data/X_test_minmax.csv', delimiter=',')\n",
    "X_train_std = pd.read_csv('data/X_train_std.csv', delimiter=',')\n",
    "X_test_std = pd.read_csv('data/X_test_std.csv', delimiter=',')\n",
    "y_train = pd.read_csv('data/y_train.csv', delimiter=',')\n",
    "y_test = pd.read_csv('data/y_test.csv', delimiter=',')"
   ]
  },
  {
   "cell_type": "code",
   "execution_count": 4,
   "metadata": {},
   "outputs": [
    {
     "name": "stdout",
     "output_type": "stream",
     "text": [
      " X_train_ orig : (3357518, 116)\n",
      " X_test_orig : (1119173, 116)\n",
      " X_train_minmax : (3357518, 116)\n",
      " X_test_minmax : (1119173, 116)\n",
      " X_train_std : (3357518, 116)\n",
      " X_test_std : (1119173, 116)\n",
      " y_train: (3357518, 1)\n",
      " y_test : (1119173, 1)\n"
     ]
    }
   ],
   "source": [
    "# verify shape\n",
    "\n",
    "\n",
    "print(f\" X_train_ orig : {X_train_orig.shape}\")\n",
    "print(f\" X_test_orig : {X_test_orig.shape}\")\n",
    "print(f\" X_train_minmax : {X_train_minmax.shape}\")\n",
    "print(f\" X_test_minmax : {X_test_minmax.shape}\")\n",
    "print(f\" X_train_std : {X_train_std.shape}\")\n",
    "print(f\" X_test_std : {X_test_std.shape}\")\n",
    "print(f\" y_train: {y_train.shape}\")\n",
    "print(f\" y_test : {y_test.shape}\")\n",
    "\n"
   ]
  },
  {
   "cell_type": "markdown",
   "metadata": {},
   "source": [
    "# K-neighbours classifier \n",
    "\n",
    "\n"
   ]
  },
  {
   "cell_type": "code",
   "execution_count": 5,
   "metadata": {},
   "outputs": [],
   "source": [
    "# on X_train_orig, X_test_orig\n",
    "\n",
    "# initialize and fit/train model on data\n",
    "\n",
    "knn_orig = KNeighborsClassifier(n_neighbors=5, metric='euclidean')\n",
    "knn_orig.fit(X_train_orig, y_train)\n",
    "\n",
    "# predict on test\n",
    "\n",
    "y_pred_orig = knn_orig.predict(X_test_orig)\n",
    "\n",
    "# Make probability predictions\n",
    "train_probs_knn_orig = knn_orig.predict_proba(X_train_orig)[:, 1]\n",
    "test_probs_knn_orig = knn_orig.predict_proba(X_test_orig)[:, 1]\n",
    "\n",
    "train_preds_knn_orig = knn_orig.predict(X_train_orig)\n",
    "test_preds_knn_orig = knn_orig.predict(X_test_orig)\n",
    "\n",
    "print(f'Train ROC AUC Score: {roc_auc_score(y_train, train_probs_knn_orig)}')\n",
    "print(f'Test ROC AUC  Score: {roc_auc_score(y_test, test_probs_knn_orig)}')\n",
    "print(f'Baseline ROC AUC: {roc_auc_score(y_test, [1 for _ in range(len(y_test))])}')\n",
    "\n",
    "print(eval_metrics(y_test, y_pred_orig))\n",
    "print(evaluate_model(test_preds_knn_orig, test_probs_knn_orig, train_preds_knn_orig, train_probs_knn_orig))\n"
   ]
  },
  {
   "cell_type": "code",
   "execution_count": null,
   "metadata": {},
   "outputs": [],
   "source": [
    "\n",
    "\n"
   ]
  },
  {
   "cell_type": "code",
   "execution_count": null,
   "metadata": {},
   "outputs": [],
   "source": [
    "# on X_train_minmax, X_test_minmax\n",
    "\n",
    "# initialize and fit/train model on data\n",
    "\n",
    "knn_minmax = KNeighborsClassifier(n_neighbors=5, metric='euclidean')\n",
    "knn_minmax.fit(X_train_minmax, y_train)\n",
    "\n",
    "# predict on test\n",
    "\n",
    "y_pred_minmax = knn_minmax.predict(X_test_minmax)\n",
    "\n",
    "# Make probability predictions\n",
    "train_probs_knn_minmax = knn_minmax.predict_proba(X_train_minmax)[:, 1]\n",
    "test_probs_knn_minmax = knn_minmax.predict_proba(X_test_minmax)[:, 1]\n",
    "\n",
    "train_preds_knn_minmax= knn_minmax.predict(X_train_minmax)\n",
    "test_preds_knn_minmax = knn_minmax.predict(X_test_minmax)\n",
    "\n",
    "print(f'Train ROC AUC Score: {roc_auc_score(y_train, train_probs_knn_minmax)}')\n",
    "print(f'Test ROC AUC  Score: {roc_auc_score(y_test, test_probs_knn_minmax)}')\n",
    "print(f'Baseline ROC AUC: {roc_auc_score(y_test, [1 for _ in range(len(y_test))])}')\n",
    "\n",
    "print(eval_metrics(y_test, y_pred_minmax))\n",
    "print(evaluate_model(test_preds_knn_minmax, test_probs_knn_minmax, train_preds_knn_minmax, train_probs_knn_minmax))"
   ]
  },
  {
   "cell_type": "code",
   "execution_count": null,
   "metadata": {},
   "outputs": [],
   "source": []
  },
  {
   "cell_type": "code",
   "execution_count": null,
   "metadata": {},
   "outputs": [],
   "source": [
    "# on X_train_std, X_test_std\n",
    "\n",
    "# initialize and fit/train model on data\n",
    "\n",
    "knn_std = KNeighborsClassifier(n_neighbors=5, metric='euclidean')\n",
    "knn_std.fit(X_train_std, y_train)\n",
    "\n",
    "# predict on test\n",
    "\n",
    "y_pred_std = knn_std.predict(X_test_std)\n",
    "\n",
    "# Make probability predictions\n",
    "train_probs_knn_std = knn_std.predict_proba(X_train_std)[:, 1]\n",
    "test_probs_knn_std = knn_std.predict_proba(X_test_std)[:, 1]\n",
    "\n",
    "train_preds_knn_std = knn_std.predict(X_train_std)\n",
    "test_preds_knn_std = knn_std.predict(X_test_std)\n",
    "\n",
    "print(f'Train ROC AUC Score: {roc_auc_score(y_train, train_probs_knn_std)}')\n",
    "print(f'Test ROC AUC  Score: {roc_auc_score(y_test, test_probs_knn_std)}')\n",
    "print(f'Baseline ROC AUC: {roc_auc_score(y_test, [1 for _ in range(len(y_test))])}')\n",
    "\n",
    "print(eval_metrics(y_test, y_pred_std))\n",
    "print(evaluate_model(test_preds_knn_std, test_probs_knn_std, train_preds_knn_std, train_probs_knn_std))"
   ]
  },
  {
   "cell_type": "code",
   "execution_count": null,
   "metadata": {},
   "outputs": [],
   "source": []
  },
  {
   "cell_type": "code",
   "execution_count": null,
   "metadata": {},
   "outputs": [],
   "source": [
    "\n",
    "from sklearn.neighbors import DistanceMetric\n",
    "\n",
    "\n",
    "metric = DistanceMetric.get_metric('mahalanobis', V=np.cov(X_train_orig))\n"
   ]
  }
 ],
 "metadata": {
  "kernelspec": {
   "display_name": ".venv",
   "language": "python",
   "name": "python3"
  },
  "language_info": {
   "codemirror_mode": {
    "name": "ipython",
    "version": 3
   },
   "file_extension": ".py",
   "mimetype": "text/x-python",
   "name": "python",
   "nbconvert_exporter": "python",
   "pygments_lexer": "ipython3",
   "version": "3.11.3"
  },
  "orig_nbformat": 4
 },
 "nbformat": 4,
 "nbformat_minor": 2
}
